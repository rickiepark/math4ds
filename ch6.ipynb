{
  "cells": [
    {
      "cell_type": "markdown",
      "id": "6fd48f69-0b32-4858-9347-4fdc36015ab4",
      "metadata": {
        "id": "6fd48f69-0b32-4858-9347-4fdc36015ab4"
      },
      "source": [
        "# 6장"
      ]
    },
    {
      "cell_type": "markdown",
      "id": "e0498f2e-8936-4cad-a987-f9f14f333e17",
      "metadata": {
        "id": "e0498f2e-8936-4cad-a987-f9f14f333e17"
      },
      "source": [
        "<table align=\"left\">\n",
        "  <td>\n",
        "    <a href=\"https://colab.research.google.com/github/rickiepark/math4ds/blob/main/ch6.ipynb\" target=\"_parent\"><img src=\"https://colab.research.google.com/assets/colab-badge.svg\" alt=\"Open In Colab\"/></a>\n",
        "  </td>\n",
        "</table>"
      ]
    },
    {
      "cell_type": "code",
      "source": [
        "import sklearn\n",
        "import pandas\n",
        "import sympy\n",
        "\n",
        "print('sklearn', sklearn.__version__)\n",
        "print('pandas', pandas.__version__)\n",
        "print('sympy', sympy.__version__)"
      ],
      "metadata": {
        "colab": {
          "base_uri": "https://localhost:8080/"
        },
        "id": "Gvg8fCYltHrG",
        "outputId": "420453ab-7a32-44d0-9391-66c368fa2960"
      },
      "id": "Gvg8fCYltHrG",
      "execution_count": 1,
      "outputs": [
        {
          "output_type": "stream",
          "name": "stdout",
          "text": [
            "sklearn 1.6.0\n",
            "pandas 2.2.2\n",
            "sympy 1.13.1\n"
          ]
        }
      ]
    },
    {
      "cell_type": "markdown",
      "id": "2a59d146-bed7-474a-8a9a-3dcfeda24f3d",
      "metadata": {
        "id": "2a59d146-bed7-474a-8a9a-3dcfeda24f3d"
      },
      "source": [
        "예제 6-1"
      ]
    },
    {
      "cell_type": "code",
      "execution_count": 2,
      "id": "ecabc74f-1425-4efb-b7e6-49d630db3d94",
      "metadata": {
        "id": "ecabc74f-1425-4efb-b7e6-49d630db3d94"
      },
      "outputs": [],
      "source": [
        "import math\n",
        "\n",
        "def predict_probability(x, b0, b1):\n",
        "    p = 1.0 / (1.0 + math.exp(-(b0 + b1 * x)))\n",
        "    return p"
      ]
    },
    {
      "cell_type": "markdown",
      "id": "27047923-38f5-4058-8f13-753989af1942",
      "metadata": {
        "id": "27047923-38f5-4058-8f13-753989af1942"
      },
      "source": [
        "예제 6-2"
      ]
    },
    {
      "cell_type": "code",
      "execution_count": 3,
      "id": "9c9466bb-3ed8-4555-889e-7b07cdd0e2fb",
      "metadata": {
        "colab": {
          "base_uri": "https://localhost:8080/",
          "height": 521
        },
        "id": "9c9466bb-3ed8-4555-889e-7b07cdd0e2fb",
        "outputId": "164f8a21-cbbf-4a20-d3f2-f68b28df55dd"
      },
      "outputs": [
        {
          "output_type": "stream",
          "name": "stdout",
          "text": [
            "1.0/(1.0 + 16.8272567955368*exp(-0.62*x))\n"
          ]
        },
        {
          "output_type": "display_data",
          "data": {
            "text/plain": [
              "<Figure size 640x480 with 1 Axes>"
            ],
            "image/png": "[encoded data removed]"
          },
          "metadata": {}
        },
        {
          "output_type": "execute_result",
          "data": {
            "text/plain": [
              "<sympy.plotting.backends.matplotlibbackend.matplotlib.MatplotlibBackend at 0x7a9480612d10>"
            ]
          },
          "metadata": {},
          "execution_count": 3
        }
      ],
      "source": [
        "from sympy import *\n",
        "b0, b1, x = symbols('b0 b1 x')\n",
        "\n",
        "p = 1.0 / (1.0 + exp(-(b0 + b1 * x)))\n",
        "\n",
        "p = p.subs(b0,-2.823)\n",
        "p = p.subs(b1, 0.620)\n",
        "print(p)\n",
        "\n",
        "plot(p)"
      ]
    },
    {
      "cell_type": "markdown",
      "id": "6d733bf7-6aba-4064-aae4-1e3e6e8a63e7",
      "metadata": {
        "id": "6d733bf7-6aba-4064-aae4-1e3e6e8a63e7"
      },
      "source": [
        "예제 6-3"
      ]
    },
    {
      "cell_type": "code",
      "execution_count": 4,
      "id": "3d575394-105d-4c63-81f0-4065a984eb62",
      "metadata": {
        "colab": {
          "base_uri": "https://localhost:8080/"
        },
        "id": "3d575394-105d-4c63-81f0-4065a984eb62",
        "outputId": "72cd5b59-ba48-4a2c-9bf7-eeedbd246029"
      },
      "outputs": [
        {
          "output_type": "stream",
          "name": "stdout",
          "text": [
            "[0.69268939]\n",
            "[-3.17580504]\n"
          ]
        }
      ],
      "source": [
        "import pandas as pd\n",
        "from sklearn.linear_model import LogisticRegression\n",
        "\n",
        "# 데이터를 로드합니다.\n",
        "df = pd.read_csv('https://bit.ly/33ebs2R', delimiter=\",\")\n",
        "\n",
        "# (마지막 열을 제외한 모든 열을) 입력 변수로 추출합니다.\n",
        "X = df.values[:, :-1]\n",
        "\n",
        "# 마지막 열을 출력으로 추출합니다.\n",
        "Y = df.values[:, -1]\n",
        "\n",
        "# 페널티 없이 로지스틱 회귀를 수행합니다.\n",
        "model = LogisticRegression(penalty=None)\n",
        "model.fit(X, Y)\n",
        "\n",
        "# beta1 파라미터를 출력합니다.\n",
        "print(model.coef_.flatten()) # 0.69267212\n",
        "\n",
        "# beta0 파라미터를 출력합니다.\n",
        "print(model.intercept_.flatten()) # -3.17576395"
      ]
    },
    {
      "cell_type": "markdown",
      "id": "387a30bf-5421-4c18-b515-da5a6fc484a8",
      "metadata": {
        "id": "387a30bf-5421-4c18-b515-da5a6fc484a8"
      },
      "source": [
        "예제 6-4"
      ]
    },
    {
      "cell_type": "code",
      "execution_count": 5,
      "id": "25cdc06c-5842-4d6d-8853-eae80d931a61",
      "metadata": {
        "colab": {
          "base_uri": "https://localhost:8080/"
        },
        "id": "25cdc06c-5842-4d6d-8853-eae80d931a61",
        "outputId": "a8ebbd2e-7410-46fb-b620-a54410d38a5e"
      },
      "outputs": [
        {
          "output_type": "stream",
          "name": "stdout",
          "text": [
            "4.7911180221699105e-05\n"
          ]
        }
      ],
      "source": [
        "import math\n",
        "import pandas as pd\n",
        "\n",
        "patient_data = pd.read_csv('https://bit.ly/33ebs2R', delimiter=\",\").itertuples()\n",
        "\n",
        "b0 = -3.17576395\n",
        "b1 = 0.69267212\n",
        "\n",
        "def logistic_function(x):\n",
        "    p = 1.0 / (1.0 + math.exp(-(b0 + b1 * x)))\n",
        "    return p\n",
        "\n",
        "# 결합 확률을 계산합니다.\n",
        "joint_likelihood = 1.0\n",
        "\n",
        "for p in patient_data:\n",
        "    if p.y == 1.0:\n",
        "        joint_likelihood *= logistic_function(p.x)\n",
        "    elif p.y == 0.0:\n",
        "        joint_likelihood *= (1.0 - logistic_function(p.x))\n",
        "\n",
        "print(joint_likelihood) # 4.7911180221699105e-05"
      ]
    },
    {
      "cell_type": "markdown",
      "id": "ec560380-a384-4a27-8320-c9d3b4386eb9",
      "metadata": {
        "id": "ec560380-a384-4a27-8320-c9d3b4386eb9"
      },
      "source": [
        "예제 6-5"
      ]
    },
    {
      "cell_type": "code",
      "execution_count": 6,
      "id": "97f49ffa-0488-4710-ad64-8bedac18d85a",
      "metadata": {
        "id": "97f49ffa-0488-4710-ad64-8bedac18d85a"
      },
      "outputs": [],
      "source": [
        "for p in patient_data:\n",
        "    joint_likelihood *= logistic_function(p.x) ** p.y * \\\n",
        "                        (1.0 - logistic_function(p.x)) ** (1.0 - p.y)"
      ]
    },
    {
      "cell_type": "markdown",
      "id": "019557eb-bf73-4061-b0c9-886e61f0dfa9",
      "metadata": {
        "id": "019557eb-bf73-4061-b0c9-886e61f0dfa9"
      },
      "source": [
        "예제 6-6"
      ]
    },
    {
      "cell_type": "code",
      "execution_count": 7,
      "id": "6d21260d-40cf-463d-929a-b5764cf692c6",
      "metadata": {
        "id": "6d21260d-40cf-463d-929a-b5764cf692c6"
      },
      "outputs": [],
      "source": [
        "# 결합 확률을 계산합니다.\n",
        "joint_likelihood = 0.0\n",
        "\n",
        "for p in patient_data:\n",
        "    joint_likelihood += math.log(logistic_function(p.x) ** p.y * \\\n",
        "                                 (1.0 - logistic_function(p.x)) ** (1.0 - p.y))\n",
        "\n",
        "joint_likelihood = math.exp(joint_likelihood)"
      ]
    },
    {
      "cell_type": "markdown",
      "id": "4a9e4020-5441-41d5-b334-2bc03f33eaf5",
      "metadata": {
        "id": "4a9e4020-5441-41d5-b334-2bc03f33eaf5"
      },
      "source": [
        "예제 6-7"
      ]
    },
    {
      "cell_type": "code",
      "execution_count": 8,
      "id": "88778e99-d6bd-48ab-8b04-546ecb5b990b",
      "metadata": {
        "id": "88778e99-d6bd-48ab-8b04-546ecb5b990b"
      },
      "outputs": [],
      "source": [
        "from sympy import *\n",
        "\n",
        "b, m, i, n = symbols('b m i n')\n",
        "x, y = symbols('x y', cls=Function)\n",
        "joint_likelihood = Sum(log((1.0 / (1.0 + exp(-(b + m * x(i)))))**y(i) * \\\n",
        "    (1.0 - (1.0 / (1.0 + exp(-(b + m * x(i))))))**(1-y(i))), (i, 0, n))"
      ]
    },
    {
      "cell_type": "markdown",
      "id": "7bf91f34-ea2c-4a1d-bb51-d24535aac4d9",
      "metadata": {
        "id": "7bf91f34-ea2c-4a1d-bb51-d24535aac4d9"
      },
      "source": [
        "예제 6-8"
      ]
    },
    {
      "cell_type": "code",
      "execution_count": 9,
      "id": "5547c5c6-b5bd-493f-b21e-b6c22f433363",
      "metadata": {
        "colab": {
          "base_uri": "https://localhost:8080/"
        },
        "id": "5547c5c6-b5bd-493f-b21e-b6c22f433363",
        "outputId": "6178bbc6-9243-4726-9a8b-3040f563ae48"
      },
      "outputs": [
        {
          "output_type": "stream",
          "name": "stdout",
          "text": [
            "0.6926693075370812 -3.175751550409821\n"
          ]
        }
      ],
      "source": [
        "from sympy import *\n",
        "import pandas as pd\n",
        "\n",
        "points = list(pd.read_csv(\"https://tinyurl.com/y2cocoo7\").itertuples())\n",
        "\n",
        "b1, b0, i, n = symbols('b1 b0 i n')\n",
        "x, y = symbols('x y', cls=Function)\n",
        "joint_likelihood = Sum(log((1.0 / (1.0 + exp(-(b0 + b1 * x(i))))) ** y(i) \\\n",
        "    * (1.0 - (1.0 / (1.0 + exp(-(b0 + b1 * x(i)))))) ** (1 - y(i))), (i, 0, n))\n",
        "\n",
        "# b1에 대한 편도함수\n",
        "d_b1 = diff(joint_likelihood, b1) \\\n",
        "           .subs(n, len(points) - 1).doit() \\\n",
        "           .replace(x, lambda i: points[i].x) \\\n",
        "           .replace(y, lambda i: points[i].y)\n",
        "\n",
        "# b0에 대한 편도함수\n",
        "d_b0 = diff(joint_likelihood, b0) \\\n",
        "           .subs(n, len(points) - 1).doit() \\\n",
        "           .replace(x, lambda i: points[i].x) \\\n",
        "           .replace(y, lambda i: points[i].y)\n",
        "\n",
        "# 빠른 계산을 위해 lambdify() 함수로 변환합니다.\n",
        "d_b1 = lambdify([b1, b0], d_b1)\n",
        "d_b0 = lambdify([b1, b0], d_b0)\n",
        "\n",
        "# 경사 하강법을 수행합니다.\n",
        "b1 = 0.01\n",
        "b0 = 0.01\n",
        "L = .01\n",
        "\n",
        "for j in range(10_000):\n",
        "    b1 += d_b1(b1, b0) * L\n",
        "    b0 += d_b0(b1, b0) * L\n",
        "\n",
        "print(b1, b0)"
      ]
    },
    {
      "cell_type": "markdown",
      "id": "593de0f4-2d80-42e1-ae4d-133bd0321dec",
      "metadata": {
        "id": "593de0f4-2d80-42e1-ae4d-133bd0321dec"
      },
      "source": [
        "예제 6-9"
      ]
    },
    {
      "cell_type": "code",
      "execution_count": 10,
      "id": "68be796a-55f3-4e1a-bf94-52f29195a473",
      "metadata": {
        "scrolled": true,
        "colab": {
          "base_uri": "https://localhost:8080/"
        },
        "id": "68be796a-55f3-4e1a-bf94-52f29195a473",
        "outputId": "b5556917-1874-40d7-e132-77c4fec4a228"
      },
      "outputs": [
        {
          "name": "stdout",
          "output_type": "stream",
          "text": [
            "계수: [ 0.03216406  0.03683015 -2.50414078  0.97423186]\n",
            "절편: [-2.73503153]\n",
            "직원이 떠날지 남을지 예측하기{sex},{age},{promotions},{years employed}: 1,34,1,5\n",
            "퇴사: [[0.28569689 0.71430311]]\n",
            "직원이 떠날지 남을지 예측하기{sex},{age},{promotions},{years employed}: \n"
          ]
        }
      ],
      "source": [
        "import pandas as pd\n",
        "from sklearn.linear_model import LogisticRegression\n",
        "\n",
        "employee_data = pd.read_csv(\"https://tinyurl.com/y6r7qjrp\")\n",
        "\n",
        "# 독립 변수 열을 추출합니다.\n",
        "inputs = employee_data.iloc[:, :-1]\n",
        "\n",
        "# 종속 변수인 \"did_quit\" 열을 추출합니다.\n",
        "output = employee_data.iloc[:, -1]\n",
        "\n",
        "# 로지스틱 회귀 모델을 만듭니다.\n",
        "fit = LogisticRegression(penalty=None).fit(inputs.to_numpy(), output)\n",
        "\n",
        "# 모델 파라미터를 출력합니다.\n",
        "print(\"계수: {0}\".format(fit.coef_.flatten()))\n",
        "print(\"절편: {0}\".format(fit.intercept_.flatten()))\n",
        "\n",
        "# 새로운 직언 데이터로 테스트합니다.\n",
        "def predict_employee_will_stay(sex, age, promotions, years_employed):\n",
        "    prediction = fit.predict([[sex, age, promotions, years_employed]])\n",
        "    probabilities = fit.predict_proba([[sex, age, promotions, years_employed]])\n",
        "    if prediction == [[1]]:\n",
        "        return \"퇴사: {0}\".format(probabilities)\n",
        "    else:\n",
        "        return \"재직: {0}\".format(probabilities)\n",
        "\n",
        "# 예측하기\n",
        "while True:\n",
        "    n = input(\"직원이 떠날지 남을지 예측하기\" +\n",
        "              \"{sex},{age},{promotions},{years employed}: \")\n",
        "    if n == \"\":\n",
        "        break\n",
        "    (sex, age, promotions, years_employed) = n.split(\",\")\n",
        "    print(predict_employee_will_stay(int(sex), int(age), int(promotions),\n",
        "          int(years_employed)))"
      ]
    },
    {
      "cell_type": "markdown",
      "id": "01dd0901-ab3c-4f7c-ad96-1bb71caa1e3c",
      "metadata": {
        "id": "01dd0901-ab3c-4f7c-ad96-1bb71caa1e3c"
      },
      "source": [
        "예제 6-10"
      ]
    },
    {
      "cell_type": "code",
      "execution_count": 11,
      "id": "7bbbcc0e-02ec-40bc-832f-e1573f2a8152",
      "metadata": {
        "colab": {
          "base_uri": "https://localhost:8080/"
        },
        "id": "7bbbcc0e-02ec-40bc-832f-e1573f2a8152",
        "outputId": "5a015fd9-95ec-4260-bc27-0709347c9f69"
      },
      "outputs": [
        {
          "output_type": "stream",
          "name": "stdout",
          "text": [
            "-9.946161673231583\n"
          ]
        }
      ],
      "source": [
        "from math import log, exp\n",
        "import pandas as pd\n",
        "\n",
        "patient_data = pd.read_csv('https://bit.ly/33ebs2R', delimiter=\",\").itertuples()\n",
        "\n",
        "b0 = -3.17576395\n",
        "b1 = 0.69267212\n",
        "\n",
        "def logistic_function(x):\n",
        "    p = 1.0 / (1.0 + exp(-(b0 + b1 * x)))\n",
        "    return p\n",
        "\n",
        "# 로그 가능도 더하기\n",
        "log_likelihood_fit = 0.0\n",
        "\n",
        "for p in patient_data:\n",
        "    if p.y == 1.0:\n",
        "        log_likelihood_fit += log(logistic_function(p.x))\n",
        "    elif p.y == 0.0:\n",
        "        log_likelihood_fit += log(1.0 - logistic_function(p.x))\n",
        "\n",
        "print(log_likelihood_fit)"
      ]
    },
    {
      "cell_type": "markdown",
      "id": "16c56535-f4b5-4036-ab75-93fd5edb3dc9",
      "metadata": {
        "id": "16c56535-f4b5-4036-ab75-93fd5edb3dc9"
      },
      "source": [
        "예제 6-11"
      ]
    },
    {
      "cell_type": "code",
      "execution_count": 12,
      "id": "bf88d40b-ce9d-47fe-a85a-1b51fc866cd5",
      "metadata": {
        "id": "bf88d40b-ce9d-47fe-a85a-1b51fc866cd5"
      },
      "outputs": [],
      "source": [
        "log_likelihood_fit = sum(log(logistic_function(p.x)) * p.y +\n",
        "                         log(1.0 - logistic_function(p.x)) * (1.0 - p.y)\n",
        "                         for p in patient_data)"
      ]
    },
    {
      "cell_type": "markdown",
      "id": "cc66c770-17fb-4561-bd9f-f335d7669cad",
      "metadata": {
        "id": "cc66c770-17fb-4561-bd9f-f335d7669cad"
      },
      "source": [
        "예제 6-12"
      ]
    },
    {
      "cell_type": "code",
      "execution_count": 13,
      "id": "4cfd3035-08b1-4dd6-8ca6-e9875a7b1eab",
      "metadata": {
        "colab": {
          "base_uri": "https://localhost:8080/"
        },
        "id": "4cfd3035-08b1-4dd6-8ca6-e9875a7b1eab",
        "outputId": "b8da2b46-7e63-4f58-9a2e-5fa55ecf16e5"
      },
      "outputs": [
        {
          "output_type": "stream",
          "name": "stdout",
          "text": [
            "-14.341070198709906\n"
          ]
        }
      ],
      "source": [
        "import pandas as pd\n",
        "from math import log, exp\n",
        "\n",
        "patient_data = list(pd.read_csv('https://bit.ly/33ebs2R', delimiter=\",\") \\\n",
        "     .itertuples())\n",
        "\n",
        "likelihood = sum(p.y for p in patient_data) / len(patient_data)\n",
        "\n",
        "log_likelihood = 0.0\n",
        "\n",
        "for p in patient_data:\n",
        "    if p.y == 1.0:\n",
        "        log_likelihood += log(likelihood)\n",
        "    elif p.y == 0.0:\n",
        "        log_likelihood += log(1.0 - likelihood)\n",
        "\n",
        "print(log_likelihood)"
      ]
    },
    {
      "cell_type": "markdown",
      "id": "eb05cab9-8e0a-4cb5-8709-7a341319dcae",
      "metadata": {
        "id": "eb05cab9-8e0a-4cb5-8709-7a341319dcae"
      },
      "source": [
        "예제 6-13"
      ]
    },
    {
      "cell_type": "code",
      "execution_count": 14,
      "id": "b2f52dbf-7bec-4c96-a73a-1951254c7ee6",
      "metadata": {
        "id": "b2f52dbf-7bec-4c96-a73a-1951254c7ee6"
      },
      "outputs": [],
      "source": [
        "log_likelihood = sum(log(likelihood)*p.y + log(1.0 - likelihood)*(1.0 - p.y) \\\n",
        "    for p in patient_data)"
      ]
    },
    {
      "cell_type": "markdown",
      "id": "bbb85e0e-f71f-4b30-9632-fd535fdfc223",
      "metadata": {
        "id": "bbb85e0e-f71f-4b30-9632-fd535fdfc223"
      },
      "source": [
        "예제 6-14"
      ]
    },
    {
      "cell_type": "code",
      "execution_count": 15,
      "id": "7defe343-76f4-44a7-a342-87995e13bd1f",
      "metadata": {
        "colab": {
          "base_uri": "https://localhost:8080/"
        },
        "id": "7defe343-76f4-44a7-a342-87995e13bd1f",
        "outputId": "b8256c18-4abd-4bf3-eb9f-ebd860e10ec4"
      },
      "outputs": [
        {
          "output_type": "stream",
          "name": "stdout",
          "text": [
            "0.306456105756576\n"
          ]
        }
      ],
      "source": [
        "import pandas as pd\n",
        "from math import log, exp\n",
        "\n",
        "patient_data = list(pd.read_csv('https://bit.ly/33ebs2R', delimiter=\",\") \\\n",
        "                                .itertuples())\n",
        "\n",
        "# 훈련한 로지스틱 회귀 모델의 계수\n",
        "b0 = -3.17576395\n",
        "b1 = 0.69267212\n",
        "\n",
        "def logistic_function(x):\n",
        "    p = 1.0 / (1.0 + exp(-(b0 + b1 * x)))\n",
        "    return p\n",
        "\n",
        "# 훈련 후의 로그 가능도\n",
        "log_likelihood_fit = sum(log(logistic_function(p.x)) * p.y +\n",
        "                         log(1.0 - logistic_function(p.x)) * (1.0 - p.y)\n",
        "                         for p in patient_data)\n",
        "\n",
        "# 훈련 후의 로그 가능도\n",
        "likelihood = sum(p.y for p in patient_data) / len(patient_data)\n",
        "\n",
        "log_likelihood = sum(log(likelihood) * p.y + log(1.0 - likelihood) * (1.0 - p.y) \\\n",
        "    for p in patient_data)\n",
        "\n",
        "# R2 계산\n",
        "r2 = (log_likelihood - log_likelihood_fit) / log_likelihood\n",
        "\n",
        "print(r2)"
      ]
    },
    {
      "cell_type": "markdown",
      "id": "3d3adc14-2e99-4900-9031-cfaebaefb37f",
      "metadata": {
        "id": "3d3adc14-2e99-4900-9031-cfaebaefb37f"
      },
      "source": [
        "예제 6-15"
      ]
    },
    {
      "cell_type": "code",
      "execution_count": 16,
      "id": "328aa493-227d-4e31-8e2a-9f61bd017f08",
      "metadata": {
        "colab": {
          "base_uri": "https://localhost:8080/"
        },
        "id": "328aa493-227d-4e31-8e2a-9f61bd017f08",
        "outputId": "7000f834-1666-407a-8220-e8572d26d321"
      },
      "outputs": [
        {
          "output_type": "stream",
          "name": "stdout",
          "text": [
            "0.0016604875618753787\n"
          ]
        }
      ],
      "source": [
        "import pandas as pd\n",
        "from math import log, exp\n",
        "from scipy.stats import chi2\n",
        "\n",
        "patient_data = list(pd.read_csv('https://bit.ly/33ebs2R', delimiter=\",\").itertuples())\n",
        "\n",
        "# 훈련된 로지스틱 회귀 모델의 계수\n",
        "b0 = -3.17576395\n",
        "b1 = 0.69267212\n",
        "\n",
        "def logistic_function(x):\n",
        "    p = 1.0 / (1.0 + exp(-(b0 + b1 * x)))\n",
        "    return p\n",
        "\n",
        "# 훈련 후 로그 가능도 계산하기\n",
        "log_likelihood_fit = sum(log(logistic_function(p.x)) * p.y +\n",
        "                         log(1.0 - logistic_function(p.x)) * (1.0 - p.y)\n",
        "                         for p in patient_data)\n",
        "\n",
        "# 훈련 전 로그 가능도 계산하기\n",
        "likelihood = sum(p.y for p in patient_data) / len(patient_data)\n",
        "\n",
        "log_likelihood = sum(log(likelihood) * p.y + log(1.0 - likelihood) * (1.0 - p.y) \\\n",
        "                     for p in patient_data)\n",
        "\n",
        "# p 값 계산하기\n",
        "chi2_input = 2 * (log_likelihood_fit - log_likelihood)\n",
        "p_value = chi2.pdf(chi2_input, 1) # 1 degree of freedom (n - 1)\n",
        "\n",
        "print(p_value)"
      ]
    },
    {
      "cell_type": "markdown",
      "id": "f3f9f665-c800-46c4-9639-172744d3f03f",
      "metadata": {
        "id": "f3f9f665-c800-46c4-9639-172744d3f03f"
      },
      "source": [
        "예제 6-16"
      ]
    },
    {
      "cell_type": "code",
      "execution_count": 17,
      "id": "3b7b5dcb-269b-49f6-a375-115d363083ee",
      "metadata": {
        "colab": {
          "base_uri": "https://localhost:8080/"
        },
        "id": "3b7b5dcb-269b-49f6-a375-115d363083ee",
        "outputId": "43c2c75c-36c9-4a3e-fa37-e85c30cf408c"
      },
      "outputs": [
        {
          "output_type": "stream",
          "name": "stdout",
          "text": [
            "정확도 평균: 0.611 (표준 편차=0.000)\n"
          ]
        }
      ],
      "source": [
        "import pandas as pd\n",
        "from sklearn.linear_model import LogisticRegression\n",
        "from sklearn.model_selection import KFold, cross_val_score\n",
        "\n",
        "# 데이터를 로드합니다.\n",
        "df = pd.read_csv(\"https://tinyurl.com/y6r7qjrp\", delimiter=\",\")\n",
        "\n",
        "X = df.values[:, :-1]\n",
        "Y = df.values[:, -1]\n",
        "\n",
        "# 랜덤 시드인 random_state를 7로 설정합니다.\n",
        "kfold = KFold(n_splits=3, random_state=7, shuffle=True)\n",
        "model = LogisticRegression(penalty=None)\n",
        "results = cross_val_score(model, X, Y, cv=kfold)\n",
        "\n",
        "print(\"정확도 평균: %.3f (표준 편차=%.3f)\" % (results.mean(), results.std()))"
      ]
    },
    {
      "cell_type": "markdown",
      "id": "bee7fd80-a6b5-480b-8f87-f6d02ffce0a8",
      "metadata": {
        "id": "bee7fd80-a6b5-480b-8f87-f6d02ffce0a8"
      },
      "source": [
        "예제 6-17"
      ]
    },
    {
      "cell_type": "code",
      "execution_count": 18,
      "id": "c70c5091-0382-4f1e-9863-61b72c9a3e00",
      "metadata": {
        "colab": {
          "base_uri": "https://localhost:8080/"
        },
        "id": "c70c5091-0382-4f1e-9863-61b72c9a3e00",
        "outputId": "c7b9a487-9d1a-42d8-8ec3-335e9650d106"
      },
      "outputs": [
        {
          "output_type": "stream",
          "name": "stdout",
          "text": [
            "[[6 3]\n",
            " [4 5]]\n"
          ]
        }
      ],
      "source": [
        "import pandas as pd\n",
        "from sklearn.linear_model import LogisticRegression\n",
        "from sklearn.metrics import confusion_matrix\n",
        "from sklearn.model_selection import train_test_split\n",
        "\n",
        "# 데이터를 로드합니다.\n",
        "df = pd.read_csv('https://bit.ly/3cManTi', delimiter=\",\")\n",
        "\n",
        "# (마지막 열을 제외한 모든 열을) 입력 변수로 추출합니다.\n",
        "X = df.values[:, :-1]\n",
        "\n",
        "# 마지막 열을 출력으로 추출합니다.\n",
        "Y = df.values[:, -1]\n",
        "\n",
        "model = LogisticRegression(solver='liblinear')\n",
        "\n",
        "X_train, X_test, Y_train, Y_test = train_test_split(X, Y, test_size=.33,\n",
        "    random_state=10)\n",
        "model.fit(X_train, Y_train)\n",
        "prediction = model.predict(X_test)\n",
        "\n",
        "\"\"\"\n",
        "오차 행렬은 각 카테고리 내에서 정확도를 평가합니다.\n",
        "[[진짜음성 거짓양성]\n",
        " [거짓음성 진짜양성]]\n",
        "\n",
        "대각선 원소가 정확한 분류를 나타내므로 이 항목의 값이 높아야 합니다.\n",
        "\"\"\"\n",
        "matrix = confusion_matrix(y_true=Y_test, y_pred=prediction)\n",
        "print(matrix)"
      ]
    },
    {
      "cell_type": "code",
      "execution_count": 19,
      "id": "872414cc-4ca3-4ef6-bfd7-7b5a11a4ec6a",
      "metadata": {
        "colab": {
          "base_uri": "https://localhost:8080/"
        },
        "id": "872414cc-4ca3-4ef6-bfd7-7b5a11a4ec6a",
        "outputId": "2d9655c2-df35-4e51-fd8b-baa995c39d58"
      },
      "outputs": [
        {
          "output_type": "execute_result",
          "data": {
            "text/plain": [
              "(array([0, 0, 0, 0, 1, 1, 0, 1, 0, 1, 1, 1, 1, 0, 0, 0, 1, 1]),\n",
              " array([0, 0, 1, 0, 1, 1, 0, 0, 1, 1, 0, 1, 0, 0, 1, 0, 0, 1]))"
            ]
          },
          "metadata": {},
          "execution_count": 19
        }
      ],
      "source": [
        "Y_test, prediction"
      ]
    }
  ],
  "metadata": {
    "kernelspec": {
      "display_name": "Python 3 (ipykernel)",
      "language": "python",
      "name": "python3"
    },
    "language_info": {
      "codemirror_mode": {
        "name": "ipython",
        "version": 3
      },
      "file_extension": ".py",
      "mimetype": "text/x-python",
      "name": "python",
      "nbconvert_exporter": "python",
      "pygments_lexer": "ipython3",
      "version": "3.10.13"
    },
    "colab": {
      "provenance": []
    }
  },
  "nbformat": 4,
  "nbformat_minor": 5
}