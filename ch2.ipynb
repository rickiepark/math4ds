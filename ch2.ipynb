{
 "cells": [
  {
   "cell_type": "markdown",
   "id": "c87ed455-88c1-4d33-b985-ca526fdc0e17",
   "metadata": {},
   "source": [
    "# 2장"
   ]
  },
  {
   "cell_type": "markdown",
   "id": "8a093d43-4f8c-4232-a3c5-38f24a7d6025",
   "metadata": {},
   "source": [
    "<table align=\"left\">\n",
    "  <td>\n",
    "    <a href=\"https://colab.research.google.com/github/rickiepark/math4ds/blob/main/ch2.ipynb\" target=\"_parent\"><img src=\"https://colab.research.google.com/assets/colab-badge.svg\" alt=\"Open In Colab\"/></a>\n",
    "  </td>\n",
    "</table>"
   ]
  },
  {
   "cell_type": "markdown",
   "id": "61744d7b-1416-4cb1-9deb-47d4449fb348",
   "metadata": {},
   "source": [
    "예제 2-1"
   ]
  },
  {
   "cell_type": "code",
   "execution_count": 2,
   "id": "0d130f7c-8a4e-4461-9596-fb789beddf65",
   "metadata": {},
   "outputs": [
    {
     "name": "stdout",
     "output_type": "stream",
     "text": [
      "0.006538461538461539\n"
     ]
    }
   ],
   "source": [
    "p_coffee_drinker = .65\n",
    "p_cancer = .005\n",
    "p_coffee_drinker_given_cancer = .85\n",
    "\n",
    "p_cancer_given_coffee_drinker = p_coffee_drinker_given_cancer * \\\n",
    "    p_cancer / p_coffee_drinker\n",
    "\n",
    "print(p_cancer_given_coffee_drinker)"
   ]
  },
  {
   "cell_type": "markdown",
   "id": "cd10e360-e3fd-485d-8074-c63cb184691f",
   "metadata": {},
   "source": [
    "예제 2-2"
   ]
  },
  {
   "cell_type": "code",
   "execution_count": 3,
   "id": "f331ddfb-463f-4f2a-a782-95d0de7bebd4",
   "metadata": {},
   "outputs": [
    {
     "name": "stdout",
     "output_type": "stream",
     "text": [
      "0 - 9.999999999999977e-11\n",
      "1 - 8.999999999999978e-09\n",
      "2 - 3.6449999999999943e-07\n",
      "3 - 8.747999999999991e-06\n",
      "4 - 0.00013778099999999974\n",
      "5 - 0.0014880347999999982\n",
      "6 - 0.011160260999999996\n",
      "7 - 0.05739562799999997\n",
      "8 - 0.1937102444999998\n",
      "9 - 0.38742048899999976\n",
      "10 - 0.3486784401000001\n"
     ]
    }
   ],
   "source": [
    "from scipy.stats import binom\n",
    "\n",
    "n = 10\n",
    "p = 0.9\n",
    "\n",
    "for k in range(n + 1):\n",
    "    probability = binom.pmf(k, n, p)\n",
    "    print(\"{0} - {1}\".format(k, probability))"
   ]
  },
  {
   "cell_type": "markdown",
   "id": "6d245858-5a3b-40c4-817d-a100d21abc00",
   "metadata": {},
   "source": [
    "예제 2-3"
   ]
  },
  {
   "cell_type": "code",
   "execution_count": 4,
   "id": "9af7d1c7-57a4-4d29-b674-6d1cc599b6a3",
   "metadata": {},
   "outputs": [
    {
     "name": "stdout",
     "output_type": "stream",
     "text": [
      "0.7748409780000002\n"
     ]
    }
   ],
   "source": [
    "from scipy.stats import beta\n",
    "\n",
    "a = 8\n",
    "b = 2\n",
    "\n",
    "p = beta.cdf(.90, a, b)\n",
    "\n",
    "print(p)"
   ]
  },
  {
   "cell_type": "markdown",
   "id": "cb386135-cc2e-460f-bb68-fd91222081af",
   "metadata": {},
   "source": [
    "예제 2-4"
   ]
  },
  {
   "cell_type": "code",
   "execution_count": 5,
   "id": "c1ac22af-acc3-4302-a787-4c569ca4023f",
   "metadata": {},
   "outputs": [
    {
     "name": "stdout",
     "output_type": "stream",
     "text": [
      "0.22515902199999982\n"
     ]
    }
   ],
   "source": [
    "from scipy.stats import beta\n",
    "\n",
    "a = 8\n",
    "b = 2\n",
    "\n",
    "p = 1.0 - beta.cdf(.90, a, b)\n",
    "\n",
    "print(p)"
   ]
  },
  {
   "cell_type": "markdown",
   "id": "59f86701-d78b-4cd7-92cb-e7fae136963e",
   "metadata": {},
   "source": [
    "예제 2-5"
   ]
  },
  {
   "cell_type": "code",
   "execution_count": 6,
   "id": "c773ad6f-2251-4a11-b8cc-a2e0294aca1d",
   "metadata": {},
   "outputs": [
    {
     "name": "stdout",
     "output_type": "stream",
     "text": [
      "0.13163577484183697\n"
     ]
    }
   ],
   "source": [
    "from scipy.stats import beta\n",
    "\n",
    "a = 30\n",
    "b = 6\n",
    "\n",
    "p = 1.0 - beta.cdf(.90, a, b)\n",
    "\n",
    "print(p)"
   ]
  },
  {
   "cell_type": "markdown",
   "id": "8423dde0-7a6e-4184-b25a-f75d2a3615ba",
   "metadata": {},
   "source": [
    "예제 2-6"
   ]
  },
  {
   "cell_type": "code",
   "execution_count": 7,
   "id": "9fc6dcea-4654-4edd-851a-e91f452ea90f",
   "metadata": {},
   "outputs": [
    {
     "name": "stdout",
     "output_type": "stream",
     "text": [
      "0.33863336199999994\n"
     ]
    }
   ],
   "source": [
    "from scipy.stats import beta\n",
    "\n",
    "a = 8\n",
    "b = 2\n",
    "\n",
    "p = beta.cdf(.90, a, b) - beta.cdf(.80, a, b)\n",
    "\n",
    "print(p)"
   ]
  }
 ],
 "metadata": {
  "kernelspec": {
   "display_name": "Python 3 (ipykernel)",
   "language": "python",
   "name": "python3"
  },
  "language_info": {
   "codemirror_mode": {
    "name": "ipython",
    "version": 3
   },
   "file_extension": ".py",
   "mimetype": "text/x-python",
   "name": "python",
   "nbconvert_exporter": "python",
   "pygments_lexer": "ipython3",
   "version": "3.10.8"
  }
 },
 "nbformat": 4,
 "nbformat_minor": 5
}
