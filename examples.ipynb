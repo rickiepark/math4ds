{
 "cells": [
  {
   "cell_type": "markdown",
   "id": "ac1762d0-d1c1-4ee3-8b57-8456d5cab8cf",
   "metadata": {},
   "source": [
    "# 연습문제 정답"
   ]
  },
  {
   "cell_type": "markdown",
   "id": "5e4354af-1be8-46ed-970c-c1243a87ac32",
   "metadata": {},
   "source": [
    "<table align=\"left\">\n",
    "  <td>\n",
    "    <a href=\"https://colab.research.google.com/github/rickiepark/math4ds/blob/main/examples.ipynb\" target=\"_parent\"><img src=\"https://colab.research.google.com/assets/colab-badge.svg\" alt=\"Open In Colab\"/></a>\n",
    "  </td>\n",
    "</table>"
   ]
  },
  {
   "cell_type": "markdown",
   "id": "63ecb3e3-21be-46a0-addb-39bffbef0f47",
   "metadata": {},
   "source": [
    "## 1장"
   ]
  },
  {
   "cell_type": "markdown",
   "id": "07e3d695-4337-44c9-8e11-21d3b8093f89",
   "metadata": {},
   "source": [
    "1-7"
   ]
  },
  {
   "cell_type": "code",
   "execution_count": 1,
   "id": "d79c01fa-f6b9-4ede-affb-60841ed41b91",
   "metadata": {},
   "outputs": [
    {
     "name": "stdout",
     "output_type": "stream",
     "text": [
      "2*exp(2*x - 1)\n"
     ]
    }
   ],
   "source": [
    "from sympy import *\n",
    "\n",
    "x = symbols('x')\n",
    "f = exp(2*x - 1)\n",
    "\n",
    "dx_f = diff(f)\n",
    "print(dx_f)"
   ]
  },
  {
   "cell_type": "markdown",
   "id": "558bad30-99dd-4394-b06e-b79e1bdb0866",
   "metadata": {},
   "source": [
    "1-8"
   ]
  },
  {
   "cell_type": "code",
   "execution_count": 2,
   "id": "ab7d1b73-dcd2-4a76-a3a5-f49ad10e8024",
   "metadata": {},
   "outputs": [
    {
     "name": "stdout",
     "output_type": "stream",
     "text": [
      "2*x/(x**2 - 1)\n"
     ]
    }
   ],
   "source": [
    "from sympy import *\n",
    "\n",
    "x = symbols('x')\n",
    "f = log(x**2 - 1)\n",
    "\n",
    "dx_f = diff(f)\n",
    "print(dx_f)"
   ]
  },
  {
   "cell_type": "markdown",
   "id": "8efd2580-e313-4f81-97be-07af88217614",
   "metadata": {},
   "source": [
    "1-9"
   ]
  },
  {
   "cell_type": "code",
   "execution_count": 3,
   "id": "8922448a-4d7d-4faf-a762-49e8c9f38ca0",
   "metadata": {},
   "outputs": [
    {
     "name": "stdout",
     "output_type": "stream",
     "text": [
      "1161.4722313334678\n"
     ]
    }
   ],
   "source": [
    "from math import exp\n",
    "\n",
    "p = 1000\t# 원금\n",
    "r = .05\t# 이자율\n",
    "t = 3\t\t# 년도\n",
    "n = 12\t# 연간 복리 적용 횟수\n",
    "\n",
    "a = p * (1 + (r/n))**(n * t)\n",
    "\n",
    "print(a)"
   ]
  },
  {
   "cell_type": "markdown",
   "id": "b694a5cf-a73a-4339-a3d4-817eab40503c",
   "metadata": {},
   "source": [
    "1-10"
   ]
  },
  {
   "cell_type": "code",
   "execution_count": 4,
   "id": "d95eec34-e5a3-4e29-b765-1d454ce1f6f2",
   "metadata": {},
   "outputs": [
    {
     "name": "stdout",
     "output_type": "stream",
     "text": [
      "1161.834242728283\n"
     ]
    }
   ],
   "source": [
    "from math import exp\n",
    "\n",
    "p = 1000 # 원금\n",
    "r = .05 # 이자율\n",
    "t = 3.0 # 년도\n",
    "\n",
    "a = p * exp(r*t)\n",
    "\n",
    "print(a)"
   ]
  },
  {
   "cell_type": "markdown",
   "id": "83e45f50-da9c-4253-b2a4-20a386b7fbb5",
   "metadata": {},
   "source": [
    "1-11"
   ]
  },
  {
   "cell_type": "code",
   "execution_count": 5,
   "id": "6c7a9bad-bd10-49a4-b163-9a4636685bcc",
   "metadata": {},
   "outputs": [
    {
     "name": "stdout",
     "output_type": "stream",
     "text": [
      "6*x\n",
      "18\n"
     ]
    }
   ],
   "source": [
    "from sympy import *\n",
    "\n",
    "# 'x'를 SymPy에 선언합니다\n",
    "x = symbols('x')\n",
    "\n",
    "# 파이썬으로 함수를 정의합니다\n",
    "f = 3*x**2 + 1\n",
    "\n",
    "# 함수의 도함수를 계산합니다\n",
    "dx_f = diff(f)\n",
    "print(dx_f)\n",
    "print(dx_f.subs(x,3))"
   ]
  },
  {
   "cell_type": "markdown",
   "id": "fe57c92b-a1cf-4d6a-bd00-4df96fcd884f",
   "metadata": {},
   "source": [
    "1-12"
   ]
  },
  {
   "cell_type": "code",
   "execution_count": 6,
   "id": "f995bfcd-0c07-4e33-9ba6-3da243e6c4ba",
   "metadata": {},
   "outputs": [
    {
     "name": "stdout",
     "output_type": "stream",
     "text": [
      "3*x**2/y\n"
     ]
    }
   ],
   "source": [
    "from sympy import *\n",
    "\n",
    "# 'x'를 SymPy에 선언합니다\n",
    "x, y = symbols('x y')\n",
    "\n",
    "_y = x**3 - 1\n",
    "z = log(y) + 2\n",
    "\n",
    "dz_dy = diff(z)\n",
    "dy_dx = diff(_y)\n",
    "print(dz_dy * dy_dx)"
   ]
  },
  {
   "cell_type": "markdown",
   "id": "ade83857-a869-4d2b-868a-67fa3cf10ed9",
   "metadata": {},
   "source": [
    "1-13"
   ]
  },
  {
   "cell_type": "code",
   "execution_count": 7,
   "id": "7a868e26-d258-4b4d-aed0-3b450b893f22",
   "metadata": {},
   "outputs": [
    {
     "name": "stdout",
     "output_type": "stream",
     "text": [
      "10\n"
     ]
    }
   ],
   "source": [
    "from sympy import *\n",
    "\n",
    "# 'x'를 SymPy에 선언합니다\n",
    "x = symbols('x')\n",
    "\n",
    "# 파이썬으로 함수를 정의합니다\n",
    "f = 3*x**2 + 1\n",
    "\n",
    "# x = 0과 2 사이에서 함수를 적분합니다\n",
    "area = integrate(f, (x, 0, 2))\n",
    "\n",
    "print(area)"
   ]
  },
  {
   "cell_type": "markdown",
   "id": "0342cd0c-b0c1-41e4-8681-3f929c9d4b76",
   "metadata": {},
   "source": [
    "## 2장"
   ]
  },
  {
   "cell_type": "markdown",
   "id": "dd4cb7a5-c937-4019-9fde-568673c760ec",
   "metadata": {},
   "source": [
    "2-5"
   ]
  },
  {
   "cell_type": "code",
   "execution_count": 8,
   "id": "10be43b2-0010-481f-a12d-a1a1ca46b066",
   "metadata": {},
   "outputs": [
    {
     "name": "stdout",
     "output_type": "stream",
     "text": [
      "0.8220955881474251\n"
     ]
    }
   ],
   "source": [
    "from scipy.stats import binom\n",
    "\n",
    "n = 137\n",
    "p = .40\n",
    "\n",
    "p_50_or_more_noshows = 0.0\n",
    "\n",
    "for x in range(50,138):\n",
    "    p_50_or_more_noshows += binom.pmf(x, n, p)\n",
    "\n",
    "print(p_50_or_more_noshows)"
   ]
  },
  {
   "cell_type": "markdown",
   "id": "774b2374-d5db-4069-800e-7f6a6f13c7d3",
   "metadata": {},
   "source": [
    "2-6"
   ]
  },
  {
   "cell_type": "code",
   "execution_count": 9,
   "id": "65eb873f-07b2-4f64-b76a-a86f29b8f65d",
   "metadata": {},
   "outputs": [
    {
     "name": "stdout",
     "output_type": "stream",
     "text": [
      "0.9962310791015625\n"
     ]
    }
   ],
   "source": [
    "from scipy.stats import beta\n",
    "\n",
    "heads = 15\n",
    "tails = 4\n",
    "\n",
    "p = 1.0 - beta.cdf(.5, heads, tails)\n",
    "\n",
    "print(p)"
   ]
  },
  {
   "cell_type": "markdown",
   "id": "ba9cb468-2234-459e-8ac7-a89ae9bcdaa4",
   "metadata": {},
   "source": [
    "2-7"
   ]
  },
  {
   "cell_type": "code",
   "execution_count": 10,
   "id": "552bb394-253e-490f-b6fd-9af8259d855f",
   "metadata": {},
   "outputs": [
    {
     "name": "stdout",
     "output_type": "stream",
     "text": [
      "0.33647497661034353\n"
     ]
    }
   ],
   "source": [
    "from scipy.stats import beta\n",
    "\n",
    "heads = 15\n",
    "tails = 4\n",
    "\n",
    "p = beta.cdf(0.8, heads, tails) - beta.cdf(0.7, heads, tails)\n",
    "print(p)"
   ]
  },
  {
   "cell_type": "markdown",
   "id": "92d489f3-1e04-4c27-913c-b7f96d9da325",
   "metadata": {},
   "source": [
    "## 3장"
   ]
  },
  {
   "cell_type": "markdown",
   "id": "3e5e285c-ccd8-4ac7-a42f-ae82c8bee5a2",
   "metadata": {},
   "source": [
    "3-1"
   ]
  },
  {
   "cell_type": "code",
   "execution_count": 11,
   "id": "fa680332-01a6-42ec-bf7f-81921b8c3285",
   "metadata": {},
   "outputs": [
    {
     "name": "stdout",
     "output_type": "stream",
     "text": [
      "평균:  1.752\n",
      "표준 편차:  0.02135415650406264\n"
     ]
    }
   ],
   "source": [
    "from math import sqrt\n",
    "\n",
    "sample = [1.78, 1.75, 1.72, 1.74, 1.77]\n",
    "\n",
    "def mean_sample(values):\n",
    "    return sum(values) /len(values)\n",
    "\n",
    "def variance_sample(values):\n",
    "    mean = mean_sample(values)\n",
    "    var = sum((v - mean) ** 2 for v in values) / len(values)\n",
    "    return var\n",
    "\n",
    "def std_dev_sample(values):\n",
    "    return sqrt(variance_sample(values))\n",
    "\n",
    "mean = mean_sample(sample)\n",
    "std_dev = std_dev_sample(sample)\n",
    "\n",
    "print(\"평균: \", mean) # 1.752\n",
    "print(\"표준 편차: \", std_dev) # 0.0213542"
   ]
  },
  {
   "cell_type": "markdown",
   "id": "113ce1b5-53f3-4811-a6ff-df25c930985f",
   "metadata": {},
   "source": [
    "3-2"
   ]
  },
  {
   "cell_type": "code",
   "execution_count": 12,
   "id": "041861fb-b46d-4cbf-9ca7-4d78dfe68e0d",
   "metadata": {},
   "outputs": [
    {
     "name": "stdout",
     "output_type": "stream",
     "text": [
      "0.031239839196641972\n"
     ]
    }
   ],
   "source": [
    "from scipy.stats import norm\n",
    "\n",
    "mean = 64.43\n",
    "std_dev = 2.99\n",
    "\n",
    "x = 1 - norm.cdf(70, mean, std_dev)\n",
    "\n",
    "print(x) # 0.031239839196641972"
   ]
  },
  {
   "cell_type": "markdown",
   "id": "4229cdf2-6863-4ac4-884e-19dd107594ac",
   "metadata": {},
   "source": [
    "3-3"
   ]
  },
  {
   "cell_type": "code",
   "execution_count": 13,
   "id": "7a0feb0c-0260-4fd4-931c-6bc13748cfbf",
   "metadata": {},
   "outputs": [
    {
     "name": "stdout",
     "output_type": "stream",
     "text": [
      "0.06382743803380352\n"
     ]
    }
   ],
   "source": [
    "from scipy.stats import norm\n",
    "\n",
    "mean = 42\n",
    "std_dev = 8\n",
    "\n",
    "x = norm.cdf(30, mean, std_dev) - norm.cdf(20, mean, std_dev)\n",
    "\n",
    "print(x)"
   ]
  },
  {
   "cell_type": "markdown",
   "id": "79fd16c4-12e0-43eb-a8ca-b9eebae2e40c",
   "metadata": {},
   "source": [
    "3-4"
   ]
  },
  {
   "cell_type": "code",
   "execution_count": 14,
   "id": "b9e023c1-a722-4815-b48c-67e322aecfbe",
   "metadata": {},
   "outputs": [
    {
     "name": "stdout",
     "output_type": "stream",
     "text": [
      "32.7475874756432\n"
     ]
    }
   ],
   "source": [
    "from scipy.stats import norm\n",
    "\n",
    "x = norm.ppf(0.1, loc=43, scale=8)\n",
    "print(x)  # 32.7475874756432"
   ]
  },
  {
   "cell_type": "markdown",
   "id": "db0c3a9a-5820-45ca-9e6a-97b2e314fb0d",
   "metadata": {},
   "source": [
    "3-5"
   ]
  },
  {
   "cell_type": "code",
   "execution_count": 15,
   "id": "763ffe51-82e3-44bd-b101-33076026c62b",
   "metadata": {},
   "outputs": [
    {
     "name": "stdout",
     "output_type": "stream",
     "text": [
      "(1.7026658973748656, 1.7285101026251342)\n"
     ]
    }
   ],
   "source": [
    "from math import sqrt\n",
    "from scipy.stats import norm\n",
    "\n",
    "def critical_z_value(p, mean=0.0, std=1.0):\n",
    "    norm_dist = norm(loc=mean, scale=std)\n",
    "    left_area = (1.0 - p) / 2.0\n",
    "    right_area = 1.0 - ((1.0 - p) / 2.0)\n",
    "    return norm_dist.ppf(left_area), norm_dist.ppf(right_area)\n",
    "\n",
    "\n",
    "def ci_large_sample(p, sample_mean, sample_std, n):\n",
    "    # 샘플 크기는 30보다 커야 합니다\n",
    "\n",
    "    lower, upper = critical_z_value(p)\n",
    "    lower_ci = lower * (sample_std / sqrt(n))\n",
    "    upper_ci = upper * (sample_std / sqrt(n))\n",
    "\n",
    "    return sample_mean + lower_ci, sample_mean + upper_ci\n",
    "\n",
    "\n",
    "print(ci_large_sample(p=.99, sample_mean=1.715588,\n",
    "    sample_std=0.029252, n=34))"
   ]
  },
  {
   "cell_type": "markdown",
   "id": "9cebfd19-c126-49aa-a84d-2ed82f5779d9",
   "metadata": {},
   "source": [
    "3-6"
   ]
  },
  {
   "cell_type": "code",
   "execution_count": 16,
   "id": "78f24436-b409-4aa2-970a-75fd1b6a2510",
   "metadata": {},
   "outputs": [
    {
     "name": "stdout",
     "output_type": "stream",
     "text": [
      "양측 검정의 P 값 0.01888333596496139\n",
      "양측 검정 통과\n"
     ]
    }
   ],
   "source": [
    "from scipy.stats import norm\n",
    "\n",
    "mean = 10345\n",
    "std_dev = 552\n",
    "\n",
    "p1 = 1.0 - norm.cdf(11641, mean, std_dev)\n",
    "\n",
    "# 대칭성을 활용합니다\n",
    "p2 = p1\n",
    "\n",
    "# 양측 검정의 P 값\n",
    "p_value = p1 + p2\n",
    "\n",
    "print(\"양측 검정의 P 값\", p_value)\n",
    "if p_value <= .05:\n",
    "    print(\"양측 검정 통과\")\n",
    "else:\n",
    "    print(\"양측 검정 실패\")"
   ]
  },
  {
   "cell_type": "markdown",
   "id": "e63535e5-7418-4660-ae81-57b04b71aca0",
   "metadata": {},
   "source": [
    "## 4장"
   ]
  },
  {
   "cell_type": "markdown",
   "id": "c9c18da6-aaeb-4f06-8722-77d548149be2",
   "metadata": {},
   "source": [
    "4-1"
   ]
  },
  {
   "cell_type": "code",
   "execution_count": 17,
   "id": "31ed695f-f8c4-4e7a-9dde-cc52a2c5b6f5",
   "metadata": {},
   "outputs": [
    {
     "name": "stdout",
     "output_type": "stream",
     "text": [
      "[2. 3.]\n"
     ]
    }
   ],
   "source": [
    "from numpy import array\n",
    "\n",
    "v = array([1,2])\n",
    "\n",
    "i_hat = array([2, 0])\n",
    "j_hat = array([0, 1.5])\n",
    "\n",
    "basis = array([i_hat, j_hat])\n",
    "\n",
    "# 벡터 v가 w로 바뀝니다.\n",
    "w = basis.dot(v)\n",
    "\n",
    "print(w)"
   ]
  },
  {
   "cell_type": "markdown",
   "id": "c6ea4d1b-1d41-4bc7-8a89-fa617e5b6d91",
   "metadata": {},
   "source": [
    "4-2"
   ]
  },
  {
   "cell_type": "code",
   "execution_count": 18,
   "id": "3b6cf537-325f-4655-b820-2abd77f70e38",
   "metadata": {},
   "outputs": [
    {
     "name": "stdout",
     "output_type": "stream",
     "text": [
      "[ 0 -3]\n"
     ]
    }
   ],
   "source": [
    "from numpy import array\n",
    "\n",
    "v = array([1,2])\n",
    "\n",
    "i_hat = array([-2, 1])\n",
    "j_hat = array([1, -2])\n",
    "\n",
    "basis = array([i_hat, j_hat])\n",
    "\n",
    "# 벡터 v가 w로 바뀝니다.\n",
    "w = basis.dot(v)\n",
    "\n",
    "print(w)"
   ]
  },
  {
   "cell_type": "markdown",
   "id": "01cb3be2-1eb0-4bf7-bae5-1002ae28fa3f",
   "metadata": {},
   "source": [
    "4-3"
   ]
  },
  {
   "cell_type": "code",
   "execution_count": 19,
   "id": "020813d5-9de6-40ed-bba5-c678c17cccdd",
   "metadata": {},
   "outputs": [
    {
     "name": "stdout",
     "output_type": "stream",
     "text": [
      "[[ 9  8]\n",
      " [17 -2]]\n"
     ]
    }
   ],
   "source": [
    "import numpy as np\n",
    "\n",
    "a = np.array([[3,-2],[1,4]])\n",
    "b = np.array([[5,2],[3,-1]])\n",
    "c = a.dot(b)\n",
    "print(c)"
   ]
  },
  {
   "cell_type": "markdown",
   "id": "efb94a05-8c5c-4ed2-a006-b6d0ad29047d",
   "metadata": {},
   "source": [
    "4-4"
   ]
  },
  {
   "cell_type": "code",
   "execution_count": 20,
   "id": "d68fa4d5-3944-4a20-a2e2-9d2fade6b3c9",
   "metadata": {},
   "outputs": [
    {
     "name": "stdout",
     "output_type": "stream",
     "text": [
      "2.0\n"
     ]
    }
   ],
   "source": [
    "import numpy as np\n",
    "from numpy.linalg import det\n",
    "\n",
    "i_hat = np.array([1, 0])\n",
    "j_hat = np.array([2, 2])\n",
    "\n",
    "basis = np.array([i_hat,j_hat]).transpose()\n",
    "\n",
    "determinant = det(basis)\n",
    "\n",
    "print(determinant)"
   ]
  },
  {
   "cell_type": "markdown",
   "id": "8e9a0465-0c43-4724-b2a7-f64a5512bca1",
   "metadata": {},
   "source": [
    "4-6"
   ]
  },
  {
   "cell_type": "code",
   "execution_count": 21,
   "id": "9ad1d1b7-2645-4c66-ba0c-df64dcf3b135",
   "metadata": {},
   "outputs": [
    {
     "name": "stdout",
     "output_type": "stream",
     "text": [
      "[[ 0.3875 -0.1     0.0125]\n",
      " [-0.1625  0.3    -0.0375]\n",
      " [-0.125   0.      0.125 ]]\n"
     ]
    }
   ],
   "source": [
    "import numpy as np\n",
    "\n",
    "A = np.array([\n",
    "    [3, 1, 0],\n",
    "    [2, 4, 1],\n",
    "    [3, 1, 8]\n",
    "])\n",
    "\n",
    "A_inverse = np.linalg.inv(A)\n",
    "print(A_inverse)"
   ]
  },
  {
   "cell_type": "markdown",
   "id": "dd242c70-9f32-40c5-8828-204ac9c5d08c",
   "metadata": {},
   "source": [
    "4-7"
   ]
  },
  {
   "cell_type": "code",
   "execution_count": 22,
   "id": "4cd319a8-7ff9-43a7-9820-1cf4eec6df1d",
   "metadata": {},
   "outputs": [
    {
     "name": "stdout",
     "output_type": "stream",
     "text": [
      "[19.8 -5.4 -6. ]\n"
     ]
    }
   ],
   "source": [
    "from numpy import array\n",
    "from numpy.linalg import inv\n",
    "\n",
    "A = array([\n",
    "    [3, 1, 0],\n",
    "    [2, 4, 1],\n",
    "    [3, 1, 8]\n",
    "])\n",
    "\n",
    "B = array([\n",
    "    54,\n",
    "    12,\n",
    "    6\n",
    "])\n",
    "\n",
    "X = inv(A).dot(B)\n",
    "\n",
    "print(X)"
   ]
  },
  {
   "cell_type": "markdown",
   "id": "f8e87450-eb34-43db-867b-73a6ecf43270",
   "metadata": {},
   "source": [
    "4-8"
   ]
  },
  {
   "cell_type": "code",
   "execution_count": 23,
   "id": "b5fc8dad-0c42-44b4-823a-73bd2f391cea",
   "metadata": {},
   "outputs": [
    {
     "name": "stdout",
     "output_type": "stream",
     "text": [
      "[[2 1]\n",
      " [6 3]]\n",
      "0.0\n"
     ]
    }
   ],
   "source": [
    "from numpy.linalg import det\n",
    "from numpy import array\n",
    "\n",
    "i_hat = array([2, 6])\n",
    "j_hat = array([1, 3])\n",
    "\n",
    "basis = array([i_hat, j_hat]).transpose()\n",
    "print(basis)\n",
    "\n",
    "determinant = det(basis)\n",
    "\n",
    "print(determinant)"
   ]
  },
  {
   "cell_type": "markdown",
   "id": "462d0533-2c4e-4002-945c-4aee4adb2b83",
   "metadata": {},
   "source": [
    "4-9"
   ]
  },
  {
   "cell_type": "code",
   "execution_count": 24,
   "id": "eb3e807d-0379-48a5-baae-57a516a87eda",
   "metadata": {},
   "outputs": [
    {
     "name": "stdout",
     "output_type": "stream",
     "text": [
      "고윳값\n",
      " [8.38761906 2.12592447 4.48645647]\n",
      "고유벡터\n",
      " [[-0.04479915 -0.72643433 -0.45454378]\n",
      " [-0.24136078  0.63495848 -0.67565954]\n",
      " [-0.96940085  0.26290852  0.5804086 ]]\n",
      "재구성 행렬\n",
      " [[ 3.  1. -0.]\n",
      " [ 2.  4.  1.]\n",
      " [ 3.  1.  8.]]\n"
     ]
    }
   ],
   "source": [
    "import numpy as np\n",
    "\n",
    "A = np.array([\n",
    "    [3, 1, 0],\n",
    "    [2, 4, 1],\n",
    "    [3, 1, 8]\n",
    "])\n",
    "\n",
    "eigenvals, eigenvecs = np.linalg.eig(A)\n",
    "print(\"고윳값\\n\", eigenvals)\n",
    "print(\"고유벡터\\n\", eigenvecs)\n",
    "A_reconstruction = eigenvecs @ np.diag(eigenvals) @ np.linalg.inv(eigenvecs)\n",
    "print(\"재구성 행렬\\n\", np.round(A_reconstruction))"
   ]
  },
  {
   "cell_type": "markdown",
   "id": "426aa0f2-8bcd-4adc-b54c-7a0d4d0aab56",
   "metadata": {},
   "source": [
    "## 5장"
   ]
  },
  {
   "cell_type": "markdown",
   "id": "f70a15e3-8fbb-4d61-adaa-d94b045532f0",
   "metadata": {},
   "source": [
    "5-1"
   ]
  },
  {
   "cell_type": "code",
   "execution_count": 25,
   "id": "9fc99c65-6c2b-4632-9cd8-0af6fd213c0e",
   "metadata": {},
   "outputs": [
    {
     "name": "stdout",
     "output_type": "stream",
     "text": [
      "m = [1.75919315]\n",
      "b = [4.69359655]\n"
     ]
    },
    {
     "data": {
      "image/png": "[encoded data removed]",
      "text/plain": [
       "<Figure size 640x480 with 1 Axes>"
      ]
     },
     "metadata": {},
     "output_type": "display_data"
    }
   ],
   "source": [
    "import pandas as pd\n",
    "import matplotlib.pyplot as plt\n",
    "from sklearn.linear_model import LinearRegression\n",
    "\n",
    "# 데이터를 로드합니다. \n",
    "df = pd.read_csv('https://bit.ly/3C8JzrM', delimiter=\",\")\n",
    "\n",
    "# (마지막 열을 제외한 모든 열을) 입력 변수로 추출합니다.\n",
    "X = df.values[:, :-1]\n",
    "\n",
    "# 마지막 열을 출력으로 추출합니다.\n",
    "Y = df.values[:, -1]\n",
    "\n",
    "# 모델을 훈련합니다. \n",
    "fit = LinearRegression().fit(X, Y)\n",
    "\n",
    "# m = 1.75919315, b = 4.69359655\n",
    "m = fit.coef_.flatten()\n",
    "b = fit.intercept_.flatten()\n",
    "print(\"m = {0}\".format(m))\n",
    "print(\"b = {0}\".format(b))\n",
    "\n",
    "# 그래프를 그립니다.\n",
    "plt.plot(X, Y, 'o') # 산점도\n",
    "plt.plot(X, m*X+b) # 선 그래프\n",
    "plt.show()"
   ]
  },
  {
   "cell_type": "markdown",
   "id": "23c8e9d1-7698-43f0-a80c-bb04f83a908a",
   "metadata": {},
   "source": [
    "5-2"
   ]
  },
  {
   "cell_type": "code",
   "execution_count": 26,
   "id": "6f86e4c5-262c-4667-95cd-6615ab155498",
   "metadata": {},
   "outputs": [
    {
     "name": "stdout",
     "output_type": "stream",
     "text": [
      "         x        y\n",
      "x  1.00000  0.92421\n",
      "y  0.92421  1.00000\n",
      "99\n",
      "검정 값: 23.835515323677328\n",
      "임계 범위: -1.9844674544266925, 1.984467454426692\n",
      "상관 관계가 입증되어 귀무 가설을 거부합니다\n",
      "P 값: 0.0\n"
     ]
    }
   ],
   "source": [
    "import pandas as pd\n",
    "\n",
    "# 판다스 데이 프레임으로 데이터를 읽습니다.\n",
    "df = pd.read_csv('https://bit.ly/3C8JzrM', delimiter=\",\")\n",
    "\n",
    "# 변수 사이의 상관관계를 출력합니다. \n",
    "correlations = df.corr(method='pearson')\n",
    "print(correlations)\n",
    "\n",
    "# 출력:\n",
    "#          x        y\n",
    "# x  1.00000  0.92421\n",
    "# y  0.92421  1.00000\n",
    "\n",
    "# 통계적 유의성을 검정합니다.\n",
    "from scipy.stats import t\n",
    "from math import sqrt\n",
    "\n",
    "# 표본 크기 \n",
    "n = df.shape[0]\n",
    "print(n)\n",
    "lower_cv = t(n - 1).ppf(.025)\n",
    "upper_cv = t(n - 1).ppf(.975)\n",
    "\n",
    "# 상관계수를 추출합니다. \n",
    "r = correlations[\"y\"][\"x\"]\n",
    "\n",
    "# 검정을 수행합니다. \n",
    "test_value = r / sqrt((1 - r ** 2) / (n - 2))\n",
    "\n",
    "print(\"검정 값: {}\".format(test_value))\n",
    "print(\"임계 범위: {}, {}\".format(lower_cv, upper_cv))\n",
    "\n",
    "if test_value < lower_cv or test_value > upper_cv:\n",
    "    print(\"상관 관계가 입증되어 귀무 가설을 거부합니다\")\n",
    "else:\n",
    "    print(\"상관 관계가 입증되지 않아 귀무 가설을 거부하지 못합니다\")\n",
    "\n",
    "# p 값을 계산합니다. \n",
    "if test_value > 0:\n",
    "    p_value = 1.0 - t(n - 1).cdf(test_value)\n",
    "else:\n",
    "    p_value = t(n - 1).cdf(test_value)\n",
    "\n",
    "# 양측 검정이므로 2를 곱합니다.\n",
    "p_value = p_value * 2\n",
    "print(\"P 값: {}\".format(p_value))"
   ]
  },
  {
   "cell_type": "markdown",
   "id": "194d6702-ce14-4977-8ec0-ce4b43cf59a8",
   "metadata": {},
   "source": [
    "5-3"
   ]
  },
  {
   "cell_type": "code",
   "execution_count": 27,
   "id": "8b6ea2e2-bb64-4752-ad13-5c34663fa07a",
   "metadata": {},
   "outputs": [
    {
     "name": "stdout",
     "output_type": "stream",
     "text": [
      "50.792086501055955 134.51442159894404\n"
     ]
    }
   ],
   "source": [
    "import pandas as pd\n",
    "from scipy.stats import t\n",
    "from math import sqrt\n",
    "\n",
    "# 데이터를 로드합니다.\n",
    "points = list(pd.read_csv('https://bit.ly/3C8JzrM', delimiter=\",\") \\\n",
    "    .itertuples())\n",
    "\n",
    "n = len(points)\n",
    "\n",
    "# 선형 회귀 파라미터 \n",
    "m = 1.75919315\n",
    "b = 4.69359655\n",
    "\n",
    "# x = 50에서 예측 구간은 계산합니다. \n",
    "x_0 = 50\n",
    "x_mean = sum(p.x for p in points) / len(points)\n",
    "\n",
    "t_value = t(n - 2).ppf(.975)\n",
    "\n",
    "standard_error = sqrt(sum((p.y - (m * p.x + b)) ** 2 for p in points) / \\\n",
    "    (n - 2))\n",
    "\n",
    "margin_of_error = t_value * standard_error * \\\n",
    "                  sqrt(1 + (1 / n) + (n * (x_0 - x_mean) ** 2) / \\\n",
    "                       (n * sum(p.x ** 2 for p in points) - \\\n",
    "\tsum(p.x for p in points) ** 2))\n",
    "\n",
    "predicted_y = m*x_0 + b\n",
    "\n",
    "print(predicted_y - margin_of_error, predicted_y + margin_of_error)"
   ]
  },
  {
   "cell_type": "markdown",
   "id": "4b5fc960-e8c5-46d6-98ec-31958cf9d68a",
   "metadata": {},
   "source": [
    "5-4"
   ]
  },
  {
   "cell_type": "code",
   "execution_count": 28,
   "id": "aa64dcd1-5761-4070-bfb8-be37ae2caf90",
   "metadata": {},
   "outputs": [
    {
     "name": "stdout",
     "output_type": "stream",
     "text": [
      "[0.86119665 0.78237719 0.85733887]\n",
      "MSE: 평균=0.834 (표준 편차-0.036)\n"
     ]
    }
   ],
   "source": [
    "import pandas as pd\n",
    "from sklearn.linear_model import LinearRegression\n",
    "from sklearn.model_selection import KFold, cross_val_score\n",
    "\n",
    "df = pd.read_csv('https://bit.ly/3C8JzrM', delimiter=\",\")\n",
    "\n",
    "# (마지막 열을 제외한 모든 열을) 입력 변수로 추출합니다.\n",
    "X = df.values[:, :-1]\n",
    "\n",
    "# 마지막 열을 출력으로 추출합니다.\n",
    "Y = df.values[:, -1]\n",
    "\n",
    "# 단순 선형 회귀를 수행합니다. \n",
    "kfold = KFold(n_splits=3, random_state=7, shuffle=True)\n",
    "model = LinearRegression()\n",
    "results = cross_val_score(model, X, Y, cv=kfold)\n",
    "print(results)\n",
    "print(\"MSE: 평균=%.3f (표준 편차-%.3f)\" % (results.mean(), results.std()))"
   ]
  },
  {
   "cell_type": "markdown",
   "id": "159ddf78-2f87-4390-997b-d7b4e8a68bf2",
   "metadata": {},
   "source": [
    "## 6장"
   ]
  },
  {
   "cell_type": "markdown",
   "id": "b6a45313-cd1b-4c69-975d-2ed5627ebf35",
   "metadata": {},
   "source": [
    "6-1"
   ]
  },
  {
   "cell_type": "code",
   "execution_count": 29,
   "id": "41bfbdf4-dc3c-4585-a1b6-670bb360b687",
   "metadata": {},
   "outputs": [
    {
     "name": "stdout",
     "output_type": "stream",
     "text": [
      "평균 정확도: 1.000 (stdev=0.000)\n"
     ]
    }
   ],
   "source": [
    "import pandas as pd\n",
    "from sklearn.linear_model import LogisticRegression\n",
    "from sklearn.metrics import confusion_matrix\n",
    "from sklearn.model_selection import KFold, cross_val_score\n",
    "\n",
    "\n",
    "# 데이터를 로드합니다\n",
    "df = pd.read_csv(\"https://bit.ly/3imidqa\", delimiter=\",\")\n",
    "\n",
    "X = df.values[:, :-1]\n",
    "Y = df.values[:, -1]\n",
    "\n",
    "kfold = KFold(n_splits=3, shuffle=True)\n",
    "model = LogisticRegression(penalty=None)\n",
    "results = cross_val_score(model, X, Y, cv=kfold)\n",
    "\n",
    "print(\"평균 정확도: %.3f (stdev=%.3f)\" % (results.mean(),\n",
    "results.std()))"
   ]
  },
  {
   "cell_type": "markdown",
   "id": "a8eb0560-58ad-4459-b548-a583a1462d90",
   "metadata": {},
   "source": [
    "6-2"
   ]
  },
  {
   "cell_type": "code",
   "execution_count": 30,
   "id": "3e4dfa28-b8a0-4cf8-a476-9fcbce04b698",
   "metadata": {},
   "outputs": [
    {
     "name": "stdout",
     "output_type": "stream",
     "text": [
      "[[157   6]\n",
      " [  1 280]]\n"
     ]
    }
   ],
   "source": [
    "import pandas as pd\n",
    "from sklearn.linear_model import LogisticRegression\n",
    "from sklearn.metrics import confusion_matrix\n",
    "from sklearn.model_selection import train_test_split\n",
    "\n",
    "# 데이터를 로드합니다\n",
    "df = pd.read_csv(\"https://bit.ly/3imidqa\", delimiter=\",\")\n",
    "\n",
    "# 입력 변수(마지막 열을 제외한 모든 열)를 추출합니다\n",
    "X = df.values[:, :-1]\n",
    "\n",
    "# 출력 변수(마지막 열)를 추출합니다\n",
    "Y = df.values[:, -1]\n",
    "\n",
    "model = LogisticRegression(solver='liblinear')\n",
    "\n",
    "X_train, X_test, Y_train, Y_test = train_test_split(X, Y, test_size=.33)\n",
    "model.fit(X_train, Y_train)\n",
    "prediction = model.predict(X_test)\n",
    "\n",
    "\"\"\"\n",
    "오차 행렬은 각 카테고리 내에서 정확도를 평가합니다.\n",
    "[[진짜음성(TP) 거짓양성(FP)]\n",
    " [거짓음성(FN) 진짜양성(TN)]]\n",
    "\n",
    "대각선은 올바른 예측을 나타내므로 이 값이 높아야 합니다\n",
    "\"\"\"\n",
    "matrix = confusion_matrix(y_true=Y_test, y_pred=prediction)\n",
    "print(matrix)"
   ]
  },
  {
   "cell_type": "markdown",
   "id": "2f5bc67e-92bc-4624-9f04-0f9ef7759a83",
   "metadata": {},
   "source": [
    "6-3"
   ]
  },
  {
   "cell_type": "code",
   "execution_count": 33,
   "id": "fa4670b8-bc62-4f97-9873-41a5001515bb",
   "metadata": {},
   "outputs": [
    {
     "name": "stdin",
     "output_type": "stream",
     "text": [
      "색깔을 입력하세요. {red},{green},{blue}:  255,255,255\n"
     ]
    },
    {
     "name": "stdout",
     "output_type": "stream",
     "text": [
      "DARK\n"
     ]
    },
    {
     "name": "stdin",
     "output_type": "stream",
     "text": [
      "색깔을 입력하세요. {red},{green},{blue}:  0,0,0\n"
     ]
    },
    {
     "name": "stdout",
     "output_type": "stream",
     "text": [
      "LIGHT\n"
     ]
    }
   ],
   "source": [
    "import pandas as pd\n",
    "from sklearn.linear_model import LogisticRegression\n",
    "import numpy as np\n",
    "from sklearn.model_selection import train_test_split\n",
    "\n",
    "# 데이터를 로드합니다.\n",
    "df = pd.read_csv(\"https://bit.ly/3imidqa\", delimiter=\",\")\n",
    "\n",
    "# 입력 변수(마지막 열을 제외한 모든 열)를 추출 합니다\n",
    "X = df.values[:, :-1]\n",
    "\n",
    "# 출력 변수(마지막 열)를 추출합니다\n",
    "Y = df.values[:, -1]\n",
    "\n",
    "model = LogisticRegression(solver='liblinear')\n",
    "\n",
    "X_train, X_test, Y_train, Y_test = train_test_split(X, Y, test_size=.33)\n",
    "model.fit(X_train, Y_train)\n",
    "prediction = model.predict(X_test)\n",
    "\n",
    "# 예측을 수행합니다\n",
    "for _ in range(2):\n",
    "    n = input(\"색깔을 입력하세요. {red},{green},{blue}: \")\n",
    "    (r, g, b) = n.split(\",\")\n",
    "    x = model.predict(np.array([[int(r), int(g), int(b)]]))\n",
    "    if model.predict(np.array([[int(r), int(g), int(b)]]))[0] == 0.0:\n",
    "        print(\"LIGHT\")\n",
    "    else:\n",
    "        print(\"DARK\")"
   ]
  },
  {
   "cell_type": "markdown",
   "id": "5e142f24-5ddd-4e6f-90f5-6da4e79eb9e0",
   "metadata": {},
   "source": [
    "## 7장"
   ]
  },
  {
   "cell_type": "code",
   "execution_count": 34,
   "id": "4a2bf5a5-1da8-4df9-b1ad-e504aff392a8",
   "metadata": {},
   "outputs": [
    {
     "name": "stdout",
     "output_type": "stream",
     "text": [
      "훈련 세트 점수: 0.555556\n",
      "테스트 세트 점수: 0.500000\n",
      "오차 행렬:\n",
      "[[9 0]\n",
      " [9 0]]\n"
     ]
    }
   ],
   "source": [
    "import pandas as pd\n",
    "\n",
    "# 데이터를 로드합니다\n",
    "from sklearn.metrics import confusion_matrix\n",
    "from sklearn.model_selection import train_test_split\n",
    "from sklearn.neural_network import MLPClassifier\n",
    "\n",
    "df = pd.read_csv('https://tinyurl.com/y6r7qjrp', delimiter=\",\")\n",
    "\n",
    "# 입력 변수(마지막 열을 제외한 모든 열)를 추출합니다\n",
    "X = df.values[:, :-1]\n",
    "\n",
    "# 출력 변수(마지막 열)를 추출합니다\n",
    "Y = df.values[:, -1]\n",
    "\n",
    "# 훈련 데이터와 테스트 데이터를 분할합니다\n",
    "X_train, X_test, Y_train, Y_test = train_test_split(X, Y, test_size=1/3)\n",
    "\n",
    "nn = MLPClassifier(solver='sgd',\n",
    "                   hidden_layer_sizes=(3, ),\n",
    "                   activation='relu',\n",
    "                   max_iter=100_000,\n",
    "                   learning_rate_init=.05)\n",
    "\n",
    "nn.fit(X_train, Y_train)\n",
    "\n",
    "print(\"훈련 세트 점수: %f\" % nn.score(X_train, Y_train))\n",
    "print(\"테스트 세트 점수: %f\" % nn.score(X_test, Y_test))\n",
    "\n",
    "print(\"오차 행렬:\")\n",
    "matrix = confusion_matrix(y_true=Y_test, y_pred=nn.predict(X_test))\n",
    "print(matrix)"
   ]
  }
 ],
 "metadata": {
  "kernelspec": {
   "display_name": "Python 3 (ipykernel)",
   "language": "python",
   "name": "python3"
  },
  "language_info": {
   "codemirror_mode": {
    "name": "ipython",
    "version": 3
   },
   "file_extension": ".py",
   "mimetype": "text/x-python",
   "name": "python",
   "nbconvert_exporter": "python",
   "pygments_lexer": "ipython3",
   "version": "3.10.13"
  }
 },
 "nbformat": 4,
 "nbformat_minor": 5
}
