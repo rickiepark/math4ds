{
 "cells": [
  {
   "cell_type": "markdown",
   "id": "577aba20-bd7b-4163-9ca8-71913a7ed2a0",
   "metadata": {},
   "source": [
    "# 4장"
   ]
  },
  {
   "cell_type": "markdown",
   "id": "fa9d282a-4594-4a84-84a8-3a38dd91a1eb",
   "metadata": {},
   "source": [
    "<table align=\"left\">\n",
    "  <td>\n",
    "    <a href=\"https://colab.research.google.com/github/rickiepark/math4ds/blob/main/ch4.ipynb\" target=\"_parent\"><img src=\"https://colab.research.google.com/assets/colab-badge.svg\" alt=\"Open In Colab\"/></a>\n",
    "  </td>\n",
    "</table>"
   ]
  },
  {
   "cell_type": "markdown",
   "id": "c53de4ed-bc00-4f77-a665-1c01e04f206b",
   "metadata": {},
   "source": [
    "예제 4-1"
   ]
  },
  {
   "cell_type": "code",
   "execution_count": 1,
   "id": "a928eda6-939b-4418-b8c0-c517b812d71c",
   "metadata": {},
   "outputs": [
    {
     "name": "stdout",
     "output_type": "stream",
     "text": [
      "[3, 2]\n"
     ]
    }
   ],
   "source": [
    "v = [3, 2]\n",
    "print(v)"
   ]
  },
  {
   "cell_type": "markdown",
   "id": "94e416d7-21c1-46df-ae8b-c9640a7a923b",
   "metadata": {},
   "source": [
    "예제 4-2"
   ]
  },
  {
   "cell_type": "code",
   "execution_count": 2,
   "id": "0e45a6a7-52a7-4441-8405-ad461e006f0f",
   "metadata": {},
   "outputs": [
    {
     "name": "stdout",
     "output_type": "stream",
     "text": [
      "[3 2]\n"
     ]
    }
   ],
   "source": [
    "import numpy as np\n",
    "v = np.array([3, 2])\n",
    "print(v)"
   ]
  },
  {
   "cell_type": "markdown",
   "id": "567b3354-0371-4088-8020-33eb851f0d8e",
   "metadata": {},
   "source": [
    "예제 4-3"
   ]
  },
  {
   "cell_type": "code",
   "execution_count": 3,
   "id": "b953cd4a-7e70-482f-bfd1-6453678d0937",
   "metadata": {},
   "outputs": [
    {
     "name": "stdout",
     "output_type": "stream",
     "text": [
      "[4 1 2]\n"
     ]
    }
   ],
   "source": [
    "import numpy as np\n",
    "v = np.array([4, 1, 2])\n",
    "print(v)"
   ]
  },
  {
   "cell_type": "markdown",
   "id": "ce467507-c1a0-4046-9e59-8cc53c10e809",
   "metadata": {},
   "source": [
    "예제 4-4"
   ]
  },
  {
   "cell_type": "code",
   "execution_count": 4,
   "id": "863be954-28e6-4781-8ce4-28f7b2ebc81a",
   "metadata": {},
   "outputs": [
    {
     "name": "stdout",
     "output_type": "stream",
     "text": [
      "[6 1 5 8 3]\n"
     ]
    }
   ],
   "source": [
    "import numpy as np\n",
    "v = np.array([6, 1, 5, 8, 3])\n",
    "print(v)"
   ]
  },
  {
   "cell_type": "markdown",
   "id": "35e0ac8b-5185-40c6-9f2d-2602b8397e78",
   "metadata": {},
   "source": [
    "예제 4-5"
   ]
  },
  {
   "cell_type": "code",
   "execution_count": 5,
   "id": "03485b73-dc89-4041-982a-e327992267e2",
   "metadata": {},
   "outputs": [
    {
     "name": "stdout",
     "output_type": "stream",
     "text": [
      "[5 1]\n"
     ]
    }
   ],
   "source": [
    "from numpy import array\n",
    "\n",
    "v = array([3,2])\n",
    "w = array([2,-1])\n",
    "\n",
    "# 벡터 더하기\n",
    "v_plus_w = v + w\n",
    "\n",
    "# 더해진 벡터 출력하기\n",
    "print(v_plus_w)"
   ]
  },
  {
   "cell_type": "markdown",
   "id": "7b12c3d0-cb99-4cea-ab09-0083d78f4e04",
   "metadata": {},
   "source": [
    "예제 4-6"
   ]
  },
  {
   "cell_type": "code",
   "execution_count": 6,
   "id": "0e40bb02-8522-4d55-996b-6a411b6d76e2",
   "metadata": {},
   "outputs": [
    {
     "name": "stdout",
     "output_type": "stream",
     "text": [
      "[6. 2.]\n"
     ]
    }
   ],
   "source": [
    "from numpy import array\n",
    "\n",
    "v = array([3,1])\n",
    "\n",
    "# 벡터 스케일링\n",
    "scaled_v = 2.0 * v\n",
    "\n",
    "# 스케일링된 벡터 출력\n",
    "print(scaled_v)"
   ]
  },
  {
   "cell_type": "markdown",
   "id": "7b821ece-6054-419b-887d-28507105f3b0",
   "metadata": {},
   "source": [
    "예제 4-7"
   ]
  },
  {
   "cell_type": "code",
   "execution_count": 7,
   "id": "5dda12d1-4e5d-4915-b162-49e4d464db69",
   "metadata": {},
   "outputs": [
    {
     "name": "stdout",
     "output_type": "stream",
     "text": [
      "[3 2]\n"
     ]
    }
   ],
   "source": [
    "from numpy import array\n",
    "\n",
    "# i-hat과 j-hat으로 구성된 기저 행렬을 만듭니다\n",
    "basis = array(\n",
    "    [[3, 0],\n",
    "     [0, 2]]\n",
    " )\n",
    "\n",
    "# 벡터 v를 정의합니다\n",
    "v = array([1,1])\n",
    "\n",
    "# 점곱으로 v에 변환을 적용하여 새로운 벡터를 만듭니다\n",
    "new_v = basis.dot(v)\n",
    "\n",
    "print(new_v)"
   ]
  },
  {
   "cell_type": "markdown",
   "id": "d76cc759-26e3-4551-9c58-78f23cb569be",
   "metadata": {},
   "source": [
    "예제 4-8"
   ]
  },
  {
   "cell_type": "code",
   "execution_count": 8,
   "id": "d6b707c3-d2fd-4b98-9d0f-8193283ff24f",
   "metadata": {},
   "outputs": [
    {
     "name": "stdout",
     "output_type": "stream",
     "text": [
      "[2 3]\n"
     ]
    }
   ],
   "source": [
    "from numpy import array\n",
    "\n",
    "# i-hat과 j-hat을 선언합니다\n",
    "i_hat = array([2, 0])\n",
    "j_hat = array([0, 3])\n",
    "\n",
    "# i-hat과 j-hat을 사용해 기저 행렬을 만들고\n",
    "# 열과 행을 바꿔야 합니다\n",
    "basis = array([i_hat, j_hat]).transpose()\n",
    "\n",
    "# 벡터 v를 선언합니다\n",
    "v = array([1,1])\n",
    "\n",
    "# 점곱으로 v에 변환을 적용하여 새로운 벡터를 만듭니다\n",
    "new_v = basis.dot(v)\n",
    "\n",
    "print(new_v) # [2, 3]"
   ]
  },
  {
   "cell_type": "markdown",
   "id": "3543a639-5781-4587-8364-298d50c4d3c2",
   "metadata": {},
   "source": [
    "예제 4-9"
   ]
  },
  {
   "cell_type": "code",
   "execution_count": 9,
   "id": "f394dffe-38fd-40ef-b78c-9ddd62e925fc",
   "metadata": {},
   "outputs": [
    {
     "name": "stdout",
     "output_type": "stream",
     "text": [
      "[4 3]\n"
     ]
    }
   ],
   "source": [
    "from numpy import array\n",
    "\n",
    "# i-hat과 j-hat을 선언합니다\n",
    "i_hat = array([2, 0])\n",
    "j_hat = array([0, 3])\n",
    "\n",
    "# i-hat과 j-hat을 사용해 기저 행렬을 만들고\n",
    "# 열과 행을 바꿔야 합니다\n",
    "basis = array([i_hat, j_hat]).transpose()\n",
    "\n",
    "\n",
    "# 벡터 v를 선언합니다\n",
    "v = array([2,1])\n",
    "\n",
    "# 점곱으로 v에 변환을 적용하여 새로운 벡터를 만듭니다\n",
    "new_v = basis.dot(v)\n",
    "\n",
    "print(new_v)"
   ]
  },
  {
   "cell_type": "markdown",
   "id": "c5258776-7bb7-4dd4-ac59-5ab553a5cc52",
   "metadata": {},
   "source": [
    "예제 4-10"
   ]
  },
  {
   "cell_type": "code",
   "execution_count": 10,
   "id": "79fa576d-591c-46af-bf39-8ecd28f2c59a",
   "metadata": {},
   "outputs": [
    {
     "name": "stdout",
     "output_type": "stream",
     "text": [
      "[6 5]\n"
     ]
    }
   ],
   "source": [
    "from numpy import array\n",
    "\n",
    "# i-hat과 j-hat을 선언합니다\n",
    "i_hat = array([2, 3])\n",
    "j_hat = array([2, -1])\n",
    "\n",
    "# i-hat과 j-hat을 사용해 기저 행렬을 만들고\n",
    "# 열과 행을 바꿔야 합니다\n",
    "basis = array([i_hat, j_hat]).transpose()\n",
    "\n",
    "# 벡터 v를 선언합니다\n",
    "v = array([2,1])\n",
    "\n",
    "# 점곱으로 v에 변환을 적용하여 새로운 벡터를 만듭니다\n",
    "new_v = basis.dot(v)\n",
    "\n",
    "print(new_v)"
   ]
  },
  {
   "cell_type": "markdown",
   "id": "c839ab72-5465-42fe-88c8-1a4ae13a5b5c",
   "metadata": {},
   "source": [
    "예제 4-11"
   ]
  },
  {
   "cell_type": "code",
   "execution_count": 11,
   "id": "bd57e257-2bb0-462a-95b4-90d49d2acca3",
   "metadata": {},
   "outputs": [
    {
     "name": "stdout",
     "output_type": "stream",
     "text": [
      "통합 행렬:\n",
      " [[ 1 -1]\n",
      " [ 1  0]]\n",
      "[-1  1]\n"
     ]
    }
   ],
   "source": [
    "from numpy import array\n",
    "\n",
    "# 변환 1\n",
    "i_hat1 = array([0, 1])\n",
    "j_hat1 = array([-1, 0])\n",
    "transform1 = array([i_hat1, j_hat1]).transpose()\n",
    "\n",
    "# 변환 2\n",
    "i_hat2 = array([1, 0])\n",
    "j_hat2 = array([1, 1])\n",
    "transform2 = array([i_hat2, j_hat2]).transpose()\n",
    "\n",
    "# 변환 통합\n",
    "combined = transform2 @ transform1\n",
    "\n",
    "# 테스트\n",
    "print(\"통합 행렬:\\n {}\".format(combined))\n",
    "\n",
    "v = array([1, 2])\n",
    "print(combined.dot(v))"
   ]
  },
  {
   "cell_type": "markdown",
   "id": "bc000ad2-d573-4376-9159-bd2a2556a49d",
   "metadata": {},
   "source": [
    "예제 4-12"
   ]
  },
  {
   "cell_type": "code",
   "execution_count": 12,
   "id": "fd035829-f2a2-4c44-9269-5e71ea80ec93",
   "metadata": {},
   "outputs": [
    {
     "name": "stdout",
     "output_type": "stream",
     "text": [
      "통합 행렬:\n",
      " [[ 0 -1]\n",
      " [ 1  1]]\n",
      "[-2  3]\n"
     ]
    }
   ],
   "source": [
    "from numpy import array\n",
    "\n",
    "# 변환 1\n",
    "i_hat1 = array([0, 1])\n",
    "j_hat1 = array([-1, 0])\n",
    "transform1 = array([i_hat1, j_hat1]).transpose()\n",
    "\n",
    "# 변환 2\n",
    "i_hat2 = array([1, 0])\n",
    "j_hat2 = array([1, 1])\n",
    "transform2 = array([i_hat2, j_hat2]).transpose()\n",
    "\n",
    "# 변환 통합, 전단을 먼저 적용하고 그다음 회전을 적용합니다\n",
    "combined = transform1 @ transform2\n",
    "\n",
    "# 테스트\n",
    "print(\"통합 행렬:\\n {}\".format(combined))\n",
    "\n",
    "v = array([1, 2])\n",
    "print(combined.dot(v))"
   ]
  },
  {
   "cell_type": "markdown",
   "id": "7d1288a7-b7a2-446e-aa37-14484e716a01",
   "metadata": {},
   "source": [
    "예제 4-13"
   ]
  },
  {
   "cell_type": "code",
   "execution_count": 13,
   "id": "b06e3211-31c6-40b1-8a56-f92512f710ba",
   "metadata": {},
   "outputs": [
    {
     "name": "stdout",
     "output_type": "stream",
     "text": [
      "6.0\n"
     ]
    }
   ],
   "source": [
    "from numpy.linalg import det\n",
    "from numpy import array\n",
    "\n",
    "i_hat = array([3, 0])\n",
    "j_hat = array([0, 2])\n",
    "\n",
    "basis = array([i_hat, j_hat]).transpose()\n",
    "\n",
    "determinant = det(basis)\n",
    "\n",
    "print(determinant)"
   ]
  },
  {
   "cell_type": "markdown",
   "id": "5623a381-1fb1-4d78-826c-316abfc59465",
   "metadata": {},
   "source": [
    "예제 4-14"
   ]
  },
  {
   "cell_type": "code",
   "execution_count": 14,
   "id": "e2724db8-b233-4803-a263-2e979439137e",
   "metadata": {},
   "outputs": [
    {
     "name": "stdout",
     "output_type": "stream",
     "text": [
      "1.0\n"
     ]
    }
   ],
   "source": [
    "from numpy.linalg import det\n",
    "from numpy import array\n",
    "\n",
    "i_hat = array([1, 0])\n",
    "j_hat = array([1, 1])\n",
    "\n",
    "basis = array([i_hat, j_hat]).transpose()\n",
    "\n",
    "determinant = det(basis)\n",
    "\n",
    "print(determinant)"
   ]
  },
  {
   "cell_type": "markdown",
   "id": "2ed34382-b977-42a3-a918-c017740c8422",
   "metadata": {},
   "source": [
    "예제 4-15"
   ]
  },
  {
   "cell_type": "code",
   "execution_count": 15,
   "id": "f2a2a319-44dc-44ae-af34-6f05704b27f6",
   "metadata": {},
   "outputs": [
    {
     "name": "stdout",
     "output_type": "stream",
     "text": [
      "-5.000000000000001\n"
     ]
    }
   ],
   "source": [
    "from numpy.linalg import det\n",
    "from numpy import array\n",
    "\n",
    "i_hat = array([-2, 1])\n",
    "j_hat = array([1, 2])\n",
    "\n",
    "basis = array([i_hat, j_hat]).transpose()\n",
    "\n",
    "determinant = det(basis)\n",
    "\n",
    "print(determinant)"
   ]
  },
  {
   "cell_type": "markdown",
   "id": "485e7f63-8ff4-4a8d-86f4-b9f4373a71da",
   "metadata": {},
   "source": [
    "예제 4-16"
   ]
  },
  {
   "cell_type": "code",
   "execution_count": 16,
   "id": "738c5168-6e58-49ae-8765-2c36e9c0cb31",
   "metadata": {},
   "outputs": [
    {
     "name": "stdout",
     "output_type": "stream",
     "text": [
      "0.0\n"
     ]
    }
   ],
   "source": [
    "from numpy.linalg import det\n",
    "from numpy import array\n",
    "\n",
    "i_hat = array([-2, 1])\n",
    "j_hat = array([3, -1.5])\n",
    "\n",
    "basis = array([i_hat, j_hat]).transpose()\n",
    "\n",
    "determinant = det(basis)\n",
    "\n",
    "print(determinant)"
   ]
  },
  {
   "cell_type": "markdown",
   "id": "774babc8-7e80-4fb8-a50f-ba2990fa5ad2",
   "metadata": {},
   "source": [
    "예제 4-17"
   ]
  },
  {
   "cell_type": "code",
   "execution_count": 17,
   "id": "147f000c-7d49-454c-984f-8af1b65d4aa9",
   "metadata": {},
   "outputs": [
    {
     "name": "stdout",
     "output_type": "stream",
     "text": [
      "역행렬: Matrix([[-1/2, 0, 1/3], [11/2, -2, -4/3], [-2, 1, 1/3]])\n",
      "항등 행렬: Matrix([[1, 0, 0], [0, 1, 0], [0, 0, 1]])\n"
     ]
    }
   ],
   "source": [
    "from sympy import *\n",
    "\n",
    "# 4x + 2y + 4z = 44\n",
    "# 5x + 3y + 7z = 56\n",
    "# 9x + 3y + 6z = 72\n",
    "\n",
    "A = Matrix([\n",
    "    [4, 2, 4],\n",
    "    [5, 3, 7],\n",
    "    [9, 3, 6]\n",
    "])\n",
    "\n",
    "# A와 그 역행렬의 점곱은 항등 행렬을 만듭니다\n",
    "inverse = A.inv()\n",
    "identity = inverse * A\n",
    "\n",
    "# Matrix([[-1/2, 0, 1/3], [11/2, -2, -4/3], [-2, 1, 1/3]])\n",
    "print(\"역행렬: {}\".format(inverse))\n",
    "\n",
    "# Matrix([[1, 0, 0], [0, 1, 0], [0, 0, 1]])\n",
    "print(\"항등 행렬: {}\".format(identity))"
   ]
  },
  {
   "cell_type": "markdown",
   "id": "82e227c1-9cfa-409e-8686-92726302c36b",
   "metadata": {},
   "source": [
    "예제 4-18"
   ]
  },
  {
   "cell_type": "code",
   "execution_count": 18,
   "id": "bdb6a698-e026-473e-9e4d-235335bb3342",
   "metadata": {},
   "outputs": [
    {
     "name": "stdout",
     "output_type": "stream",
     "text": [
      "[ 2. 34. -8.]\n"
     ]
    }
   ],
   "source": [
    "from numpy import array\n",
    "from numpy.linalg import inv\n",
    "\n",
    "# 4x + 2y + 4z = 44\n",
    "# 5x + 3y + 7z = 56\n",
    "# 9x + 3y + 6z = 72\n",
    "\n",
    "A = array([\n",
    "    [4, 2, 4],\n",
    "    [5, 3, 7],\n",
    "    [9, 3, 6]\n",
    "])\n",
    "\n",
    "B = array([\n",
    "    44,\n",
    "    56,\n",
    "    72\n",
    "])\n",
    "\n",
    "X = inv(A).dot(B)\n",
    "\n",
    "print(X)"
   ]
  },
  {
   "cell_type": "markdown",
   "id": "cdb91a7e-56f8-4836-84ea-3960511540e4",
   "metadata": {},
   "source": [
    "예제 4-19"
   ]
  },
  {
   "cell_type": "code",
   "execution_count": 19,
   "id": "4379e3a1-e069-4cf3-8c06-a6b857ad3989",
   "metadata": {},
   "outputs": [
    {
     "name": "stdout",
     "output_type": "stream",
     "text": [
      "Matrix([[2], [34], [-8]])\n"
     ]
    }
   ],
   "source": [
    "from sympy import *\n",
    "\n",
    "# 4x + 2y + 4z = 44\n",
    "# 5x + 3y + 7z = 56\n",
    "# 9x + 3y + 6z = 72\n",
    "\n",
    "A = Matrix([\n",
    "    [4, 2, 4],\n",
    "    [5, 3, 7],\n",
    "    [9, 3, 6]\n",
    "])\n",
    "\n",
    "B = Matrix([\n",
    "    44,\n",
    "    56,\n",
    "    72\n",
    "])\n",
    "\n",
    "X = A.inv() * B\n",
    "\n",
    "print(X)"
   ]
  },
  {
   "cell_type": "markdown",
   "id": "0bf9f455-3729-40ac-957a-38abb528081f",
   "metadata": {},
   "source": [
    "예제 4-20"
   ]
  },
  {
   "cell_type": "code",
   "execution_count": 20,
   "id": "d1fb6692-8a02-471f-82e8-3de895f66eea",
   "metadata": {},
   "outputs": [
    {
     "name": "stdout",
     "output_type": "stream",
     "text": [
      "고윳값\n",
      "[-0.46410162  6.46410162]\n",
      "\n",
      "고유 벡터\n",
      "[[-0.80689822 -0.34372377]\n",
      " [ 0.59069049 -0.9390708 ]]\n"
     ]
    }
   ],
   "source": [
    "from numpy import array, diag\n",
    "from numpy.linalg import eig, inv\n",
    "\n",
    "A = array([\n",
    "    [1, 2],\n",
    "    [4, 5]\n",
    "])\n",
    "\n",
    "eigenvals, eigenvecs = eig(A)\n",
    "\n",
    "print(\"고윳값\")\n",
    "print(eigenvals)\n",
    "print(\"\\n고유 벡터\")\n",
    "print(eigenvecs)"
   ]
  },
  {
   "cell_type": "markdown",
   "id": "cf243fa7-ba5f-4e2b-b427-4eaa80d7ff63",
   "metadata": {},
   "source": [
    "예제 4-21"
   ]
  },
  {
   "cell_type": "code",
   "execution_count": 21,
   "id": "1736eaf3-3e99-436b-9d9d-e63506fd3ce3",
   "metadata": {},
   "outputs": [
    {
     "name": "stdout",
     "output_type": "stream",
     "text": [
      "고윳값\n",
      "[-0.46410162  6.46410162]\n",
      "\n",
      "고유 벡터\n",
      "[[-0.80689822 -0.34372377]\n",
      " [ 0.59069049 -0.9390708 ]]\n",
      "\n",
      "재구성 행렬\n",
      "[[1. 2.]\n",
      " [4. 5.]]\n"
     ]
    }
   ],
   "source": [
    "from numpy import array, diag\n",
    "from numpy.linalg import eig, inv\n",
    "\n",
    "A = array([\n",
    "    [1, 2],\n",
    "    [4, 5]\n",
    "])\n",
    "\n",
    "eigenvals, eigenvecs = eig(A)\n",
    "\n",
    "print(\"고윳값\")\n",
    "print(eigenvals)\n",
    "print(\"\\n고유 벡터\")\n",
    "print(eigenvecs)\n",
    "\n",
    "print(\"\\n재구성 행렬\")\n",
    "Q = eigenvecs\n",
    "R = inv(Q)\n",
    "\n",
    "L = diag(eigenvals)\n",
    "B = Q @ L @ R\n",
    "\n",
    "print(B)"
   ]
  }
 ],
 "metadata": {
  "kernelspec": {
   "display_name": "Python 3 (ipykernel)",
   "language": "python",
   "name": "python3"
  },
  "language_info": {
   "codemirror_mode": {
    "name": "ipython",
    "version": 3
   },
   "file_extension": ".py",
   "mimetype": "text/x-python",
   "name": "python",
   "nbconvert_exporter": "python",
   "pygments_lexer": "ipython3",
   "version": "3.10.8"
  }
 },
 "nbformat": 4,
 "nbformat_minor": 5
}
