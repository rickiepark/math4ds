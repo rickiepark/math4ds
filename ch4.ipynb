{
  "cells": [
    {
      "cell_type": "markdown",
      "id": "577aba20-bd7b-4163-9ca8-71913a7ed2a0",
      "metadata": {
        "id": "577aba20-bd7b-4163-9ca8-71913a7ed2a0"
      },
      "source": [
        "# 4장"
      ]
    },
    {
      "cell_type": "markdown",
      "id": "fa9d282a-4594-4a84-84a8-3a38dd91a1eb",
      "metadata": {
        "id": "fa9d282a-4594-4a84-84a8-3a38dd91a1eb"
      },
      "source": [
        "<table align=\"left\">\n",
        "  <td>\n",
        "    <a href=\"https://colab.research.google.com/github/rickiepark/math4ds/blob/main/ch4.ipynb\" target=\"_parent\"><img src=\"https://colab.research.google.com/assets/colab-badge.svg\" alt=\"Open In Colab\"/></a>\n",
        "  </td>\n",
        "</table>"
      ]
    },
    {
      "cell_type": "markdown",
      "id": "c53de4ed-bc00-4f77-a665-1c01e04f206b",
      "metadata": {
        "id": "c53de4ed-bc00-4f77-a665-1c01e04f206b"
      },
      "source": [
        "예제 4-1"
      ]
    },
    {
      "cell_type": "code",
      "execution_count": null,
      "id": "a928eda6-939b-4418-b8c0-c517b812d71c",
      "metadata": {
        "id": "a928eda6-939b-4418-b8c0-c517b812d71c",
        "outputId": "fb9f1569-7cea-4985-fa12-c9ed635c0968"
      },
      "outputs": [
        {
          "name": "stdout",
          "output_type": "stream",
          "text": [
            "[3, 2]\n"
          ]
        }
      ],
      "source": [
        "v = [3, 2]\n",
        "print(v)"
      ]
    },
    {
      "cell_type": "markdown",
      "id": "94e416d7-21c1-46df-ae8b-c9640a7a923b",
      "metadata": {
        "id": "94e416d7-21c1-46df-ae8b-c9640a7a923b"
      },
      "source": [
        "예제 4-2"
      ]
    },
    {
      "cell_type": "code",
      "execution_count": null,
      "id": "0e45a6a7-52a7-4441-8405-ad461e006f0f",
      "metadata": {
        "id": "0e45a6a7-52a7-4441-8405-ad461e006f0f",
        "outputId": "39697ba2-7013-441a-992c-d6308c417df4"
      },
      "outputs": [
        {
          "name": "stdout",
          "output_type": "stream",
          "text": [
            "[3 2]\n"
          ]
        }
      ],
      "source": [
        "import numpy as np\n",
        "v = np.array([3, 2])\n",
        "print(v)"
      ]
    },
    {
      "cell_type": "markdown",
      "id": "567b3354-0371-4088-8020-33eb851f0d8e",
      "metadata": {
        "id": "567b3354-0371-4088-8020-33eb851f0d8e"
      },
      "source": [
        "예제 4-3"
      ]
    },
    {
      "cell_type": "code",
      "execution_count": null,
      "id": "b953cd4a-7e70-482f-bfd1-6453678d0937",
      "metadata": {
        "id": "b953cd4a-7e70-482f-bfd1-6453678d0937",
        "outputId": "31d5e5f0-1457-46bc-dec3-3d0dd7135c26"
      },
      "outputs": [
        {
          "name": "stdout",
          "output_type": "stream",
          "text": [
            "[4 1 2]\n"
          ]
        }
      ],
      "source": [
        "import numpy as np\n",
        "v = np.array([4, 1, 2])\n",
        "print(v)"
      ]
    },
    {
      "cell_type": "markdown",
      "id": "ce467507-c1a0-4046-9e59-8cc53c10e809",
      "metadata": {
        "id": "ce467507-c1a0-4046-9e59-8cc53c10e809"
      },
      "source": [
        "예제 4-4"
      ]
    },
    {
      "cell_type": "code",
      "execution_count": null,
      "id": "863be954-28e6-4781-8ce4-28f7b2ebc81a",
      "metadata": {
        "id": "863be954-28e6-4781-8ce4-28f7b2ebc81a",
        "outputId": "61f80c4d-bf1a-493f-855b-b0b32a513dee"
      },
      "outputs": [
        {
          "name": "stdout",
          "output_type": "stream",
          "text": [
            "[6 1 5 8 3]\n"
          ]
        }
      ],
      "source": [
        "import numpy as np\n",
        "v = np.array([6, 1, 5, 8, 3])\n",
        "print(v)"
      ]
    },
    {
      "cell_type": "markdown",
      "id": "35e0ac8b-5185-40c6-9f2d-2602b8397e78",
      "metadata": {
        "id": "35e0ac8b-5185-40c6-9f2d-2602b8397e78"
      },
      "source": [
        "예제 4-5"
      ]
    },
    {
      "cell_type": "code",
      "execution_count": null,
      "id": "03485b73-dc89-4041-982a-e327992267e2",
      "metadata": {
        "id": "03485b73-dc89-4041-982a-e327992267e2",
        "outputId": "f908eccf-c290-41ab-862f-75ba1e4718a3"
      },
      "outputs": [
        {
          "name": "stdout",
          "output_type": "stream",
          "text": [
            "[5 1]\n"
          ]
        }
      ],
      "source": [
        "from numpy import array\n",
        "\n",
        "v = array([3,2])\n",
        "w = array([2,-1])\n",
        "\n",
        "# 벡터 더하기\n",
        "v_plus_w = v + w\n",
        "\n",
        "# 더해진 벡터 출력하기\n",
        "print(v_plus_w)"
      ]
    },
    {
      "cell_type": "markdown",
      "id": "7b12c3d0-cb99-4cea-ab09-0083d78f4e04",
      "metadata": {
        "id": "7b12c3d0-cb99-4cea-ab09-0083d78f4e04"
      },
      "source": [
        "예제 4-6"
      ]
    },
    {
      "cell_type": "code",
      "execution_count": null,
      "id": "0e40bb02-8522-4d55-996b-6a411b6d76e2",
      "metadata": {
        "id": "0e40bb02-8522-4d55-996b-6a411b6d76e2",
        "outputId": "1effde0c-dfd7-4e91-9861-c7627f2d3b41"
      },
      "outputs": [
        {
          "name": "stdout",
          "output_type": "stream",
          "text": [
            "[6. 2.]\n"
          ]
        }
      ],
      "source": [
        "from numpy import array\n",
        "\n",
        "v = array([3,1])\n",
        "\n",
        "# 벡터 스케일링\n",
        "scaled_v = 2.0 * v\n",
        "\n",
        "# 스케일링된 벡터 출력\n",
        "print(scaled_v)"
      ]
    },
    {
      "cell_type": "markdown",
      "id": "7b821ece-6054-419b-887d-28507105f3b0",
      "metadata": {
        "id": "7b821ece-6054-419b-887d-28507105f3b0"
      },
      "source": [
        "예제 4-7"
      ]
    },
    {
      "cell_type": "code",
      "execution_count": null,
      "id": "5dda12d1-4e5d-4915-b162-49e4d464db69",
      "metadata": {
        "id": "5dda12d1-4e5d-4915-b162-49e4d464db69",
        "outputId": "9055d38b-ebc7-48e5-92b8-510c7253c60b"
      },
      "outputs": [
        {
          "name": "stdout",
          "output_type": "stream",
          "text": [
            "[3 2]\n"
          ]
        }
      ],
      "source": [
        "from numpy import array\n",
        "\n",
        "# i-hat과 j-hat으로 구성된 기저 행렬을 만듭니다\n",
        "basis = array(\n",
        "    [[3, 0],\n",
        "     [0, 2]]\n",
        " )\n",
        "\n",
        "# 벡터 v를 정의합니다\n",
        "v = array([1,1])\n",
        "\n",
        "# 점곱으로 v에 변환을 적용하여 새로운 벡터를 만듭니다\n",
        "new_v = basis.dot(v)\n",
        "\n",
        "print(new_v)"
      ]
    },
    {
      "cell_type": "markdown",
      "id": "d76cc759-26e3-4551-9c58-78f23cb569be",
      "metadata": {
        "id": "d76cc759-26e3-4551-9c58-78f23cb569be"
      },
      "source": [
        "예제 4-8"
      ]
    },
    {
      "cell_type": "code",
      "execution_count": null,
      "id": "d6b707c3-d2fd-4b98-9d0f-8193283ff24f",
      "metadata": {
        "id": "d6b707c3-d2fd-4b98-9d0f-8193283ff24f",
        "outputId": "d7987409-8f71-4934-dbe3-3b6f0ba11ab2"
      },
      "outputs": [
        {
          "name": "stdout",
          "output_type": "stream",
          "text": [
            "[2 3]\n"
          ]
        }
      ],
      "source": [
        "from numpy import array\n",
        "\n",
        "# i-hat과 j-hat을 선언합니다\n",
        "i_hat = array([2, 0])\n",
        "j_hat = array([0, 3])\n",
        "\n",
        "# i-hat과 j-hat을 사용해 기저 행렬을 만들고\n",
        "# 열과 행을 바꿔야 합니다\n",
        "basis = array([i_hat, j_hat]).transpose()\n",
        "\n",
        "# 벡터 v를 선언합니다\n",
        "v = array([1,1])\n",
        "\n",
        "# 점곱으로 v에 변환을 적용하여 새로운 벡터를 만듭니다\n",
        "new_v = basis.dot(v)\n",
        "\n",
        "print(new_v) # [2, 3]"
      ]
    },
    {
      "cell_type": "markdown",
      "id": "3543a639-5781-4587-8364-298d50c4d3c2",
      "metadata": {
        "id": "3543a639-5781-4587-8364-298d50c4d3c2"
      },
      "source": [
        "예제 4-9"
      ]
    },
    {
      "cell_type": "code",
      "execution_count": null,
      "id": "f394dffe-38fd-40ef-b78c-9ddd62e925fc",
      "metadata": {
        "id": "f394dffe-38fd-40ef-b78c-9ddd62e925fc",
        "outputId": "4a249d9b-c57a-46ed-dd78-78527bed9377"
      },
      "outputs": [
        {
          "name": "stdout",
          "output_type": "stream",
          "text": [
            "[4 3]\n"
          ]
        }
      ],
      "source": [
        "from numpy import array\n",
        "\n",
        "# i-hat과 j-hat을 선언합니다\n",
        "i_hat = array([2, 0])\n",
        "j_hat = array([0, 3])\n",
        "\n",
        "# i-hat과 j-hat을 사용해 기저 행렬을 만들고\n",
        "# 열과 행을 바꿔야 합니다\n",
        "basis = array([i_hat, j_hat]).transpose()\n",
        "\n",
        "\n",
        "# 벡터 v를 선언합니다\n",
        "v = array([2,1])\n",
        "\n",
        "# 점곱으로 v에 변환을 적용하여 새로운 벡터를 만듭니다\n",
        "new_v = basis.dot(v)\n",
        "\n",
        "print(new_v)"
      ]
    },
    {
      "cell_type": "markdown",
      "id": "c5258776-7bb7-4dd4-ac59-5ab553a5cc52",
      "metadata": {
        "id": "c5258776-7bb7-4dd4-ac59-5ab553a5cc52"
      },
      "source": [
        "예제 4-10"
      ]
    },
    {
      "cell_type": "code",
      "execution_count": null,
      "id": "79fa576d-591c-46af-bf39-8ecd28f2c59a",
      "metadata": {
        "id": "79fa576d-591c-46af-bf39-8ecd28f2c59a",
        "outputId": "ea05b4c2-cc48-4be6-9641-60b5cd0571af"
      },
      "outputs": [
        {
          "name": "stdout",
          "output_type": "stream",
          "text": [
            "[6 5]\n"
          ]
        }
      ],
      "source": [
        "from numpy import array\n",
        "\n",
        "# i-hat과 j-hat을 선언합니다\n",
        "i_hat = array([2, 3])\n",
        "j_hat = array([2, -1])\n",
        "\n",
        "# i-hat과 j-hat을 사용해 기저 행렬을 만들고\n",
        "# 열과 행을 바꿔야 합니다\n",
        "basis = array([i_hat, j_hat]).transpose()\n",
        "\n",
        "# 벡터 v를 선언합니다\n",
        "v = array([2,1])\n",
        "\n",
        "# 점곱으로 v에 변환을 적용하여 새로운 벡터를 만듭니다\n",
        "new_v = basis.dot(v)\n",
        "\n",
        "print(new_v)"
      ]
    },
    {
      "cell_type": "markdown",
      "id": "c839ab72-5465-42fe-88c8-1a4ae13a5b5c",
      "metadata": {
        "id": "c839ab72-5465-42fe-88c8-1a4ae13a5b5c"
      },
      "source": [
        "예제 4-11"
      ]
    },
    {
      "cell_type": "code",
      "execution_count": null,
      "id": "bd57e257-2bb0-462a-95b4-90d49d2acca3",
      "metadata": {
        "id": "bd57e257-2bb0-462a-95b4-90d49d2acca3",
        "outputId": "62a93f59-c176-4533-eeed-7317185cfd28"
      },
      "outputs": [
        {
          "name": "stdout",
          "output_type": "stream",
          "text": [
            "통합 행렬:\n",
            " [[ 1 -1]\n",
            " [ 1  0]]\n",
            "[-1  1]\n"
          ]
        }
      ],
      "source": [
        "from numpy import array\n",
        "\n",
        "# 변환 1\n",
        "i_hat1 = array([0, 1])\n",
        "j_hat1 = array([-1, 0])\n",
        "transform1 = array([i_hat1, j_hat1]).transpose()\n",
        "\n",
        "# 변환 2\n",
        "i_hat2 = array([1, 0])\n",
        "j_hat2 = array([1, 1])\n",
        "transform2 = array([i_hat2, j_hat2]).transpose()\n",
        "\n",
        "# 변환 통합\n",
        "combined = transform2 @ transform1\n",
        "\n",
        "# 테스트\n",
        "print(\"통합 행렬:\\n {}\".format(combined))\n",
        "\n",
        "v = array([1, 2])\n",
        "print(combined.dot(v))"
      ]
    },
    {
      "cell_type": "markdown",
      "id": "bc000ad2-d573-4376-9159-bd2a2556a49d",
      "metadata": {
        "id": "bc000ad2-d573-4376-9159-bd2a2556a49d"
      },
      "source": [
        "예제 4-12"
      ]
    },
    {
      "cell_type": "code",
      "execution_count": null,
      "id": "fd035829-f2a2-4c44-9269-5e71ea80ec93",
      "metadata": {
        "id": "fd035829-f2a2-4c44-9269-5e71ea80ec93",
        "outputId": "5f658704-b484-4c94-e7bb-b5b461402565"
      },
      "outputs": [
        {
          "name": "stdout",
          "output_type": "stream",
          "text": [
            "통합 행렬:\n",
            " [[ 0 -1]\n",
            " [ 1  1]]\n",
            "[-2  3]\n"
          ]
        }
      ],
      "source": [
        "from numpy import array\n",
        "\n",
        "# 변환 1\n",
        "i_hat1 = array([0, 1])\n",
        "j_hat1 = array([-1, 0])\n",
        "transform1 = array([i_hat1, j_hat1]).transpose()\n",
        "\n",
        "# 변환 2\n",
        "i_hat2 = array([1, 0])\n",
        "j_hat2 = array([1, 1])\n",
        "transform2 = array([i_hat2, j_hat2]).transpose()\n",
        "\n",
        "# 변환 통합, 전단을 먼저 적용하고 그다음 회전을 적용합니다\n",
        "combined = transform1 @ transform2\n",
        "\n",
        "# 테스트\n",
        "print(\"통합 행렬:\\n {}\".format(combined))\n",
        "\n",
        "v = array([1, 2])\n",
        "print(combined.dot(v))"
      ]
    },
    {
      "cell_type": "markdown",
      "id": "7d1288a7-b7a2-446e-aa37-14484e716a01",
      "metadata": {
        "id": "7d1288a7-b7a2-446e-aa37-14484e716a01"
      },
      "source": [
        "예제 4-13"
      ]
    },
    {
      "cell_type": "code",
      "execution_count": null,
      "id": "b06e3211-31c6-40b1-8a56-f92512f710ba",
      "metadata": {
        "id": "b06e3211-31c6-40b1-8a56-f92512f710ba",
        "outputId": "bce20aeb-7bc1-4bd9-f56d-9f51e4be027d"
      },
      "outputs": [
        {
          "name": "stdout",
          "output_type": "stream",
          "text": [
            "6.0\n"
          ]
        }
      ],
      "source": [
        "from numpy.linalg import det\n",
        "from numpy import array\n",
        "\n",
        "i_hat = array([3, 0])\n",
        "j_hat = array([0, 2])\n",
        "\n",
        "basis = array([i_hat, j_hat]).transpose()\n",
        "\n",
        "determinant = det(basis)\n",
        "\n",
        "print(determinant)"
      ]
    },
    {
      "cell_type": "markdown",
      "id": "5623a381-1fb1-4d78-826c-316abfc59465",
      "metadata": {
        "id": "5623a381-1fb1-4d78-826c-316abfc59465"
      },
      "source": [
        "예제 4-14"
      ]
    },
    {
      "cell_type": "code",
      "execution_count": null,
      "id": "e2724db8-b233-4803-a263-2e979439137e",
      "metadata": {
        "id": "e2724db8-b233-4803-a263-2e979439137e",
        "outputId": "72e71a1d-2af3-408b-beff-d88ce7d21af3"
      },
      "outputs": [
        {
          "name": "stdout",
          "output_type": "stream",
          "text": [
            "1.0\n"
          ]
        }
      ],
      "source": [
        "from numpy.linalg import det\n",
        "from numpy import array\n",
        "\n",
        "i_hat = array([1, 0])\n",
        "j_hat = array([1, 1])\n",
        "\n",
        "basis = array([i_hat, j_hat]).transpose()\n",
        "\n",
        "determinant = det(basis)\n",
        "\n",
        "print(determinant)"
      ]
    },
    {
      "cell_type": "markdown",
      "id": "2ed34382-b977-42a3-a918-c017740c8422",
      "metadata": {
        "id": "2ed34382-b977-42a3-a918-c017740c8422"
      },
      "source": [
        "예제 4-15"
      ]
    },
    {
      "cell_type": "code",
      "execution_count": null,
      "id": "f2a2a319-44dc-44ae-af34-6f05704b27f6",
      "metadata": {
        "id": "f2a2a319-44dc-44ae-af34-6f05704b27f6",
        "outputId": "67ae0348-7134-4834-bad2-4eb2fd8f62b8"
      },
      "outputs": [
        {
          "name": "stdout",
          "output_type": "stream",
          "text": [
            "-5.000000000000001\n"
          ]
        }
      ],
      "source": [
        "from numpy.linalg import det\n",
        "from numpy import array\n",
        "\n",
        "i_hat = array([-2, 1])\n",
        "j_hat = array([1, 2])\n",
        "\n",
        "basis = array([i_hat, j_hat]).transpose()\n",
        "\n",
        "determinant = det(basis)\n",
        "\n",
        "print(determinant)"
      ]
    },
    {
      "cell_type": "markdown",
      "id": "485e7f63-8ff4-4a8d-86f4-b9f4373a71da",
      "metadata": {
        "id": "485e7f63-8ff4-4a8d-86f4-b9f4373a71da"
      },
      "source": [
        "예제 4-16"
      ]
    },
    {
      "cell_type": "code",
      "execution_count": 1,
      "id": "738c5168-6e58-49ae-8765-2c36e9c0cb31",
      "metadata": {
        "id": "738c5168-6e58-49ae-8765-2c36e9c0cb31",
        "outputId": "7ba825ff-0146-48f6-aa10-552f1f6f79fd",
        "colab": {
          "base_uri": "https://localhost:8080/"
        }
      },
      "outputs": [
        {
          "output_type": "stream",
          "name": "stdout",
          "text": [
            "0.0\n"
          ]
        }
      ],
      "source": [
        "from numpy.linalg import det\n",
        "from numpy import array\n",
        "\n",
        "i_hat = array([3, -1.5])\n",
        "j_hat = array([-2, 1])\n",
        "\n",
        "basis = array([i_hat, j_hat]).transpose()\n",
        "\n",
        "determinant = det(basis)\n",
        "\n",
        "print(determinant)"
      ]
    },
    {
      "cell_type": "markdown",
      "id": "774babc8-7e80-4fb8-a50f-ba2990fa5ad2",
      "metadata": {
        "id": "774babc8-7e80-4fb8-a50f-ba2990fa5ad2"
      },
      "source": [
        "예제 4-17"
      ]
    },
    {
      "cell_type": "code",
      "execution_count": null,
      "id": "147f000c-7d49-454c-984f-8af1b65d4aa9",
      "metadata": {
        "id": "147f000c-7d49-454c-984f-8af1b65d4aa9",
        "outputId": "79af8f22-dc4a-467a-d24c-e6a29ae9cb9e"
      },
      "outputs": [
        {
          "name": "stdout",
          "output_type": "stream",
          "text": [
            "역행렬: Matrix([[-1/2, 0, 1/3], [11/2, -2, -4/3], [-2, 1, 1/3]])\n",
            "항등 행렬: Matrix([[1, 0, 0], [0, 1, 0], [0, 0, 1]])\n"
          ]
        }
      ],
      "source": [
        "from sympy import *\n",
        "\n",
        "# 4x + 2y + 4z = 44\n",
        "# 5x + 3y + 7z = 56\n",
        "# 9x + 3y + 6z = 72\n",
        "\n",
        "A = Matrix([\n",
        "    [4, 2, 4],\n",
        "    [5, 3, 7],\n",
        "    [9, 3, 6]\n",
        "])\n",
        "\n",
        "# A와 그 역행렬의 점곱은 항등 행렬을 만듭니다\n",
        "inverse = A.inv()\n",
        "identity = inverse * A\n",
        "\n",
        "# Matrix([[-1/2, 0, 1/3], [11/2, -2, -4/3], [-2, 1, 1/3]])\n",
        "print(\"역행렬: {}\".format(inverse))\n",
        "\n",
        "# Matrix([[1, 0, 0], [0, 1, 0], [0, 0, 1]])\n",
        "print(\"항등 행렬: {}\".format(identity))"
      ]
    },
    {
      "cell_type": "markdown",
      "id": "82e227c1-9cfa-409e-8686-92726302c36b",
      "metadata": {
        "id": "82e227c1-9cfa-409e-8686-92726302c36b"
      },
      "source": [
        "예제 4-18"
      ]
    },
    {
      "cell_type": "code",
      "execution_count": null,
      "id": "bdb6a698-e026-473e-9e4d-235335bb3342",
      "metadata": {
        "id": "bdb6a698-e026-473e-9e4d-235335bb3342",
        "outputId": "03640323-2402-4e2c-bc78-41be11edc817"
      },
      "outputs": [
        {
          "name": "stdout",
          "output_type": "stream",
          "text": [
            "[ 2. 34. -8.]\n"
          ]
        }
      ],
      "source": [
        "from numpy import array\n",
        "from numpy.linalg import inv\n",
        "\n",
        "# 4x + 2y + 4z = 44\n",
        "# 5x + 3y + 7z = 56\n",
        "# 9x + 3y + 6z = 72\n",
        "\n",
        "A = array([\n",
        "    [4, 2, 4],\n",
        "    [5, 3, 7],\n",
        "    [9, 3, 6]\n",
        "])\n",
        "\n",
        "B = array([\n",
        "    44,\n",
        "    56,\n",
        "    72\n",
        "])\n",
        "\n",
        "X = inv(A).dot(B)\n",
        "\n",
        "print(X)"
      ]
    },
    {
      "cell_type": "markdown",
      "id": "cdb91a7e-56f8-4836-84ea-3960511540e4",
      "metadata": {
        "id": "cdb91a7e-56f8-4836-84ea-3960511540e4"
      },
      "source": [
        "예제 4-19"
      ]
    },
    {
      "cell_type": "code",
      "execution_count": null,
      "id": "4379e3a1-e069-4cf3-8c06-a6b857ad3989",
      "metadata": {
        "id": "4379e3a1-e069-4cf3-8c06-a6b857ad3989",
        "outputId": "e8f5bd9b-5277-481f-fe87-5dbfab50e11f"
      },
      "outputs": [
        {
          "name": "stdout",
          "output_type": "stream",
          "text": [
            "Matrix([[2], [34], [-8]])\n"
          ]
        }
      ],
      "source": [
        "from sympy import *\n",
        "\n",
        "# 4x + 2y + 4z = 44\n",
        "# 5x + 3y + 7z = 56\n",
        "# 9x + 3y + 6z = 72\n",
        "\n",
        "A = Matrix([\n",
        "    [4, 2, 4],\n",
        "    [5, 3, 7],\n",
        "    [9, 3, 6]\n",
        "])\n",
        "\n",
        "B = Matrix([\n",
        "    44,\n",
        "    56,\n",
        "    72\n",
        "])\n",
        "\n",
        "X = A.inv() * B\n",
        "\n",
        "print(X)"
      ]
    },
    {
      "cell_type": "markdown",
      "id": "0bf9f455-3729-40ac-957a-38abb528081f",
      "metadata": {
        "id": "0bf9f455-3729-40ac-957a-38abb528081f"
      },
      "source": [
        "예제 4-20"
      ]
    },
    {
      "cell_type": "code",
      "execution_count": null,
      "id": "d1fb6692-8a02-471f-82e8-3de895f66eea",
      "metadata": {
        "id": "d1fb6692-8a02-471f-82e8-3de895f66eea",
        "outputId": "9614f8b9-83ab-4827-b290-7fa9343a68e0"
      },
      "outputs": [
        {
          "name": "stdout",
          "output_type": "stream",
          "text": [
            "고윳값\n",
            "[-0.46410162  6.46410162]\n",
            "\n",
            "고유 벡터\n",
            "[[-0.80689822 -0.34372377]\n",
            " [ 0.59069049 -0.9390708 ]]\n"
          ]
        }
      ],
      "source": [
        "from numpy import array, diag\n",
        "from numpy.linalg import eig, inv\n",
        "\n",
        "A = array([\n",
        "    [1, 2],\n",
        "    [4, 5]\n",
        "])\n",
        "\n",
        "eigenvals, eigenvecs = eig(A)\n",
        "\n",
        "print(\"고윳값\")\n",
        "print(eigenvals)\n",
        "print(\"\\n고유 벡터\")\n",
        "print(eigenvecs)"
      ]
    },
    {
      "cell_type": "markdown",
      "id": "cf243fa7-ba5f-4e2b-b427-4eaa80d7ff63",
      "metadata": {
        "id": "cf243fa7-ba5f-4e2b-b427-4eaa80d7ff63"
      },
      "source": [
        "예제 4-21"
      ]
    },
    {
      "cell_type": "code",
      "execution_count": null,
      "id": "1736eaf3-3e99-436b-9d9d-e63506fd3ce3",
      "metadata": {
        "id": "1736eaf3-3e99-436b-9d9d-e63506fd3ce3",
        "outputId": "4863329e-66ee-4961-cbc2-897de007b65a"
      },
      "outputs": [
        {
          "name": "stdout",
          "output_type": "stream",
          "text": [
            "고윳값\n",
            "[-0.46410162  6.46410162]\n",
            "\n",
            "고유 벡터\n",
            "[[-0.80689822 -0.34372377]\n",
            " [ 0.59069049 -0.9390708 ]]\n",
            "\n",
            "재구성 행렬\n",
            "[[1. 2.]\n",
            " [4. 5.]]\n"
          ]
        }
      ],
      "source": [
        "from numpy import array, diag\n",
        "from numpy.linalg import eig, inv\n",
        "\n",
        "A = array([\n",
        "    [1, 2],\n",
        "    [4, 5]\n",
        "])\n",
        "\n",
        "eigenvals, eigenvecs = eig(A)\n",
        "\n",
        "print(\"고윳값\")\n",
        "print(eigenvals)\n",
        "print(\"\\n고유 벡터\")\n",
        "print(eigenvecs)\n",
        "\n",
        "print(\"\\n재구성 행렬\")\n",
        "Q = eigenvecs\n",
        "R = inv(Q)\n",
        "\n",
        "L = diag(eigenvals)\n",
        "B = Q @ L @ R\n",
        "\n",
        "print(B)"
      ]
    }
  ],
  "metadata": {
    "kernelspec": {
      "display_name": "Python 3 (ipykernel)",
      "language": "python",
      "name": "python3"
    },
    "language_info": {
      "codemirror_mode": {
        "name": "ipython",
        "version": 3
      },
      "file_extension": ".py",
      "mimetype": "text/x-python",
      "name": "python",
      "nbconvert_exporter": "python",
      "pygments_lexer": "ipython3",
      "version": "3.10.8"
    },
    "colab": {
      "provenance": []
    }
  },
  "nbformat": 4,
  "nbformat_minor": 5
}